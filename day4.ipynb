{
 "cells": [
  {
   "cell_type": "markdown",
   "metadata": {},
   "source": [
    "# question 1"
   ]
  },
  {
   "cell_type": "code",
   "execution_count": 26,
   "metadata": {},
   "outputs": [
    {
     "name": "stdout",
     "output_type": "stream",
     "text": [
      "Thirty days of python\n"
     ]
    }
   ],
   "source": [
    "#concatenation of strings\n",
    "text_1 = 'Thirty'\n",
    "text_2 = 'days'\n",
    "text_3 = 'of'\n",
    "text_4 = 'python'\n",
    "space = ' '\n",
    "full_text = text_1 + space + text_2 + space + text_3 + space + text_4\n",
    "print(full_text)"
   ]
  },
  {
   "cell_type": "markdown",
   "metadata": {},
   "source": [
    "# question 2"
   ]
  },
  {
   "cell_type": "code",
   "execution_count": 27,
   "metadata": {},
   "outputs": [
    {
     "name": "stdout",
     "output_type": "stream",
     "text": [
      "Coding For All\n"
     ]
    }
   ],
   "source": [
    "#concatenation of string\n",
    "text_1 = 'Coding'\n",
    "text_2 = 'For'\n",
    "text_3 = 'All'\n",
    "space = ' '\n",
    "full_text = text_1 + space + text_2 + space + text_3\n",
    "print(full_text)"
   ]
  },
  {
   "cell_type": "markdown",
   "metadata": {},
   "source": []
  },
  {
   "cell_type": "markdown",
   "metadata": {},
   "source": [
    "# QUESTION 3, 4, 5, 6, and 7"
   ]
  },
  {
   "cell_type": "code",
   "execution_count": 28,
   "metadata": {},
   "outputs": [
    {
     "name": "stdout",
     "output_type": "stream",
     "text": [
      "Coding For All\n",
      "14\n",
      "CODING FOR ALL\n",
      "coding for all\n"
     ]
    }
   ],
   "source": [
    "# Variable declaration of a name company\n",
    "company =  \"Coding For All\"\n",
    "print(company)\n",
    "print(len(company)) #To print the length of the 'company'\n",
    "print(company.upper()) # to print 'coding for all' in capital letter\n",
    "print(company.lower()) # TO change it to small letters"
   ]
  },
  {
   "cell_type": "markdown",
   "metadata": {},
   "source": [
    "# Question 8 and 9"
   ]
  },
  {
   "cell_type": "code",
   "execution_count": 29,
   "metadata": {},
   "outputs": [
    {
     "name": "stdout",
     "output_type": "stream",
     "text": [
      "Coding for all\n",
      "Coding For All\n",
      "cODING fOR aLL\n",
      "Coding\n"
     ]
    }
   ],
   "source": [
    "# to capitalize, title and swapcase on coding\n",
    "print(company.capitalize())\n",
    "print(company.title())\n",
    "print(company.swapcase())\n",
    "print(company[:6]) # to remove only 'coding' from 'coding for all'\n"
   ]
  },
  {
   "cell_type": "markdown",
   "metadata": {},
   "source": [
    "# Question 10"
   ]
  },
  {
   "cell_type": "code",
   "execution_count": null,
   "metadata": {},
   "outputs": [],
   "source": [
    "# to use index and find method and check if coding contains in 'coding for all'\n",
    "company = 'Coding For All'\n",
    "print(company.index('coding'))\n",
    "print(company.find('coding'))"
   ]
  },
  {
   "cell_type": "markdown",
   "metadata": {},
   "source": [
    "# Question 11"
   ]
  },
  {
   "cell_type": "code",
   "execution_count": null,
   "metadata": {},
   "outputs": [
    {
     "name": "stdout",
     "output_type": "stream",
     "text": [
      "Python For All\n"
     ]
    }
   ],
   "source": [
    "print(company.replace('Coding', 'Python')) # Replace the word coding in the string 'Coding For All' to Python."
   ]
  },
  {
   "cell_type": "markdown",
   "metadata": {},
   "source": [
    "# QUESTION 12"
   ]
  },
  {
   "cell_type": "code",
   "execution_count": null,
   "metadata": {},
   "outputs": [
    {
     "name": "stdout",
     "output_type": "stream",
     "text": [
      "Python for All\n"
     ]
    }
   ],
   "source": [
    "company = 'Python for All'\n",
    "print(company.replace('Python for Everyone', 'Python for All'))"
   ]
  },
  {
   "cell_type": "markdown",
   "metadata": {},
   "source": [
    "# Question 13"
   ]
  },
  {
   "cell_type": "code",
   "execution_count": null,
   "metadata": {},
   "outputs": [
    {
     "name": "stdout",
     "output_type": "stream",
     "text": [
      "['Coding', 'for', 'all']\n"
     ]
    }
   ],
   "source": [
    "\n",
    "# to split the string 'Coding for All\n",
    "text = 'Coding for all'\n",
    "print(text.split()) "
   ]
  },
  {
   "cell_type": "markdown",
   "metadata": {},
   "source": [
    "# Question 14\n"
   ]
  },
  {
   "cell_type": "code",
   "execution_count": null,
   "metadata": {},
   "outputs": [
    {
     "name": "stdout",
     "output_type": "stream",
     "text": [
      "['Facebook,', 'Google,', 'Microsoft,', 'Apple,', 'IBM,', 'Oracle,', 'Amazon']\n"
     ]
    }
   ],
   "source": [
    "# To split these string\n",
    "text = \"Facebook, Google, Microsoft, Apple, IBM, Oracle, Amazon\"\n",
    "print(text.split())"
   ]
  },
  {
   "cell_type": "markdown",
   "metadata": {},
   "source": [
    "# Question 15"
   ]
  },
  {
   "cell_type": "code",
   "execution_count": null,
   "metadata": {},
   "outputs": [
    {
     "name": "stdout",
     "output_type": "stream",
     "text": [
      "C\n"
     ]
    }
   ],
   "source": [
    " # What is the character at index 0 in the string Coding For All.\n",
    "company = 'Coding For All'\n",
    "print(company[0])"
   ]
  },
  {
   "cell_type": "markdown",
   "metadata": {},
   "source": [
    "# question 16"
   ]
  },
  {
   "cell_type": "code",
   "execution_count": 38,
   "metadata": {},
   "outputs": [
    {
     "name": "stdout",
     "output_type": "stream",
     "text": [
      "13\n"
     ]
    }
   ],
   "source": [
    "#  the last index of the string Coding For All\n",
    "last_index = 'coding for all'\n",
    "print(len(last_index) - 1)"
   ]
  },
  {
   "cell_type": "markdown",
   "metadata": {},
   "source": [
    "# question 17"
   ]
  },
  {
   "cell_type": "code",
   "execution_count": 45,
   "metadata": {},
   "outputs": [
    {
     "name": "stdout",
     "output_type": "stream",
     "text": [
      "r\n"
     ]
    }
   ],
   "source": [
    "# character is at index 10 in \"Coding For All\" string\n",
    "print('coding for all'[9])"
   ]
  },
  {
   "cell_type": "markdown",
   "metadata": {},
   "source": [
    "# question 18 and 19\n"
   ]
  },
  {
   "cell_type": "code",
   "execution_count": 1,
   "metadata": {},
   "outputs": [
    {
     "name": "stdout",
     "output_type": "stream",
     "text": [
      "PFE\n",
      "CFA\n"
     ]
    }
   ],
   "source": [
    "# Create an acronym or an abbreviation for the name 'Python For Everyone' and 'Coding For All'\n",
    "text = 'Python For Everyone'\n",
    "acronym = ''.join(text[0] + text[7] + text[11])\n",
    "print(acronym)\n",
    "text = 'Coding For All'\n",
    "acronym = ''.join(text[0] + text[7] + text[11])\n",
    "print(acronym)"
   ]
  },
  {
   "cell_type": "markdown",
   "metadata": {},
   "source": [
    "## Question 20, 21 and 22"
   ]
  },
  {
   "cell_type": "code",
   "execution_count": 10,
   "metadata": {},
   "outputs": [
    {
     "name": "stdout",
     "output_type": "stream",
     "text": [
      "0\n",
      "7\n",
      "12\n"
     ]
    }
   ],
   "source": [
    "# using index to determine the position\n",
    "text = 'Coding For All' #to determine the position of the first occurrence of C in Coding For All.\n",
    "print(text.index('C'))\n",
    "\n",
    "text = 'Coding For All' #to determine the position of the first occurrence of F in Coding For All.\n",
    "print(text.index('F'))\n",
    "\n",
    "text = 'Coding For All People' # using rfind to determine the position of the last occurrence of l in Coding For All People.\n",
    "print(text.index('l'))\n"
   ]
  },
  {
   "cell_type": "markdown",
   "metadata": {},
   "source": [
    "# Question 23"
   ]
  },
  {
   "cell_type": "code",
   "execution_count": 12,
   "metadata": {},
   "outputs": [
    {
     "name": "stdout",
     "output_type": "stream",
     "text": [
      "31\n"
     ]
    }
   ],
   "source": [
    "# using index or find to find the position of the first occurrence of the word 'because' from the sentence 'You cannot end a sentence with because because because is a conjunction'\n",
    "text = 'You cannot end a sentence with because because because is a conjunction'\n",
    "print(text.index('because'))"
   ]
  },
  {
   "cell_type": "markdown",
   "metadata": {},
   "source": [
    "# question 24"
   ]
  },
  {
   "cell_type": "code",
   "execution_count": 14,
   "metadata": {},
   "outputs": [
    {
     "name": "stdout",
     "output_type": "stream",
     "text": [
      "47\n"
     ]
    }
   ],
   "source": [
    "# Use rindex to find the position of the last occurrence of the word because from the sentence.\n",
    "text = 'You cannot end a sentence with because because because is a conjuction'\n",
    "print(text.rindex('because'))"
   ]
  },
  {
   "cell_type": "markdown",
   "metadata": {},
   "source": [
    "# Question 25"
   ]
  },
  {
   "cell_type": "code",
   "execution_count": 5,
   "metadata": {},
   "outputs": [
    {
     "name": "stdout",
     "output_type": "stream",
     "text": [
      "because because because\n"
     ]
    }
   ],
   "source": [
    "\n",
    "# Slice out the phrase 'because because because' in the following sentence: 'You cannot end a sentence with because because because is a conjunction'\n",
    "sentence = 'You cannot end a sentence with because because because is a conjunction'\n",
    "sliced_words = sentence[31:54]\n",
    "print(sliced_words)"
   ]
  },
  {
   "cell_type": "markdown",
   "metadata": {},
   "source": [
    "## question 26\n",
    "\n"
   ]
  },
  {
   "cell_type": "code",
   "execution_count": 6,
   "metadata": {},
   "outputs": [
    {
     "name": "stdout",
     "output_type": "stream",
     "text": [
      "31\n"
     ]
    }
   ],
   "source": [
    "# the position of the first occurrence of the word 'because' in the sentence\n",
    "text = 'You cannot end a sentence with because because because is a conjunction'\n",
    "print(text.find('because'))"
   ]
  },
  {
   "cell_type": "markdown",
   "metadata": {},
   "source": [
    "## question 27"
   ]
  },
  {
   "cell_type": "code",
   "execution_count": 7,
   "metadata": {},
   "outputs": [
    {
     "name": "stdout",
     "output_type": "stream",
     "text": [
      "because because because\n"
     ]
    }
   ],
   "source": [
    "\n",
    "# Slice out the phrase 'because because because' in the following sentence: 'You cannot end a sentence with because because because is a conjunction'\n",
    "sentence = 'You cannot end a sentence with because because because is a conjunction'\n",
    "sliced_words = sentence[31:54]\n",
    "print(sliced_words)"
   ]
  },
  {
   "cell_type": "markdown",
   "metadata": {},
   "source": [
    "## Question 28 and 29"
   ]
  },
  {
   "cell_type": "code",
   "execution_count": 10,
   "metadata": {},
   "outputs": [
    {
     "name": "stdout",
     "output_type": "stream",
     "text": [
      "True\n",
      "False\n"
     ]
    }
   ],
   "source": [
    "# Does 'Coding For All' start with a substring Coding?\n",
    "sentence = 'Coding For All'\n",
    "substring = 'Coding'\n",
    "print(sentence.startswith(substring))\n",
    "\n",
    "# Does 'Coding For All' start with a substring Coding?\n",
    "sentence = 'Coding For All'\n",
    "substring = 'Coding'\n",
    "print(sentence.endswith(substring))"
   ]
  },
  {
   "cell_type": "markdown",
   "metadata": {},
   "source": [
    "## question 30"
   ]
  },
  {
   "cell_type": "code",
   "execution_count": 11,
   "metadata": {},
   "outputs": [
    {
     "name": "stdout",
     "output_type": "stream",
     "text": [
      "Coding For All\n"
     ]
    }
   ],
   "source": [
    "# to remove the trailing space in '   Coding For All      '  ,\n",
    "text = 'Coding For All'\n",
    "print(sentence.strip(' '))"
   ]
  },
  {
   "cell_type": "markdown",
   "metadata": {},
   "source": [
    "## question 31"
   ]
  },
  {
   "cell_type": "code",
   "execution_count": 13,
   "metadata": {},
   "outputs": [
    {
     "name": "stdout",
     "output_type": "stream",
     "text": [
      "False\n",
      "True\n"
     ]
    }
   ],
   "source": [
    "# the variables that return True or false when use the isidentifier())\n",
    "text_1 = '30DaysOfPython'\n",
    "text_2 = 'thirty_days_of_python'\n",
    "print(text_1. isidentifier())\n",
    "print(text_2. isidentifier())"
   ]
  },
  {
   "cell_type": "markdown",
   "metadata": {},
   "source": [
    "## question 32"
   ]
  },
  {
   "cell_type": "code",
   "execution_count": 14,
   "metadata": {},
   "outputs": [
    {
     "name": "stdout",
     "output_type": "stream",
     "text": [
      "Django# Flask# Bottle# Pyramid# Falcon\n"
     ]
    }
   ],
   "source": [
    "# to Join the liabries with a hash with space \n",
    "libraries = 'Django', 'Flask', 'Bottle', 'Pyramid', 'Falcon'\n",
    "print('# '.join(libraries))\n"
   ]
  },
  {
   "cell_type": "markdown",
   "metadata": {},
   "source": [
    "## question 33"
   ]
  },
  {
   "cell_type": "code",
   "execution_count": 16,
   "metadata": {},
   "outputs": [
    {
     "name": "stdout",
     "output_type": "stream",
     "text": [
      "i am enjoying this challenge. \n",
      " I just wonder what is next.\n"
     ]
    }
   ],
   "source": [
    "# to seprate the following sentences using new line \\n\n",
    "sentence = 'i am enjoying this challenge. \\n I just wonder what is next.'\n",
    "print(sentence)"
   ]
  },
  {
   "cell_type": "markdown",
   "metadata": {},
   "source": [
    "## question 34"
   ]
  },
  {
   "cell_type": "code",
   "execution_count": 17,
   "metadata": {},
   "outputs": [
    {
     "name": "stdout",
     "output_type": "stream",
     "text": [
      "Name\tAge\tCountry\tCity\n",
      "Asabeneh\t250\tFinland\tHelsinki\n"
     ]
    }
   ],
   "source": [
    "# Use a tab escape sequence to write the following lines.\n",
    "# Name      Age     Country   City\n",
    "# Asabeneh  250     Finland   Helsinki\n",
    "print('Name\\tAge\\tCountry\\tCity')\n",
    "print('Asabeneh\\t250\\tFinland\\tHelsinki')"
   ]
  },
  {
   "cell_type": "markdown",
   "metadata": {},
   "source": [
    "## question 35"
   ]
  },
  {
   "cell_type": "code",
   "execution_count": 19,
   "metadata": {},
   "outputs": [],
   "source": [
    "# using the string formatting method to display \n",
    "# Strings  and numbers\n",
    "radius = 10\n",
    "pi = 3.14\n",
    "area = pi * radius ** 2\n",
    "formated_string = 'The area of circle with a radius %d is %.2f.' %(radius, area) "
   ]
  },
  {
   "cell_type": "markdown",
   "metadata": {},
   "source": [
    "## question 36\n"
   ]
  },
  {
   "cell_type": "code",
   "execution_count": 30,
   "metadata": {},
   "outputs": [
    {
     "name": "stdout",
     "output_type": "stream",
     "text": [
      "8 + 6 = 14\n",
      "8 - 6 = 2\n",
      "8 * 6 = 48\n",
      "8 / 6 = 1.33\n",
      "8 % 6 = 2\n",
      "8 // 6 = 1\n",
      "8 ** 6 = 262144\n"
     ]
    }
   ],
   "source": [
    "# making the following \n",
    "\"\"\"\n",
    "8 + 6 = 14\n",
    "8 - 6 = 2\n",
    "8 * 6 = 48\n",
    "8 / 6 = 1.33\n",
    "8 % 6 = 2\n",
    "8 // 6 = 1\n",
    "8 ** 6 = 262144\n",
    "\"\"\"\n",
    "a = 8\n",
    "b = 6\n",
    "print('{a} + {b} = {a + b}')\n",
    "print('{a} - {b} = {a - b}')\n",
    "print('{a} * {b} = {a * b}')\n",
    "print('{a} / {b} = {a / b:.2f}')\n",
    "print('{a} % {b} = {a % b}')\n",
    "print('{x} // {b} = {a // b}')\n",
    "print('{x} ** {b} = {a ** b}')"
   ]
  }
 ],
 "metadata": {
  "kernelspec": {
   "display_name": "Python 3",
   "language": "python",
   "name": "python3"
  },
  "language_info": {
   "codemirror_mode": {
    "name": "ipython",
    "version": 3
   },
   "file_extension": ".py",
   "mimetype": "text/x-python",
   "name": "python",
   "nbconvert_exporter": "python",
   "pygments_lexer": "ipython3",
   "version": "3.11.7"
  }
 },
 "nbformat": 4,
 "nbformat_minor": 2
}
