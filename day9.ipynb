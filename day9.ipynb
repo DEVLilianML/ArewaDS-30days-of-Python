{
 "cells": [
  {
   "cell_type": "markdown",
   "metadata": {},
   "source": [
    "## Exercises: Level 1\n"
   ]
  },
  {
   "cell_type": "markdown",
   "metadata": {},
   "source": [
    "## QUESTION 1"
   ]
  },
  {
   "cell_type": "code",
   "execution_count": null,
   "metadata": {},
   "outputs": [],
   "source": [
    "\n",
    "# Get user input using input(“Enter your age: ”)\n",
    "age = input('Enter your age: '))\n",
    "if age >= 18:\n",
    "    print('You are old enough to drive')\n",
    "else:\n",
    "    print('You need {18-age} more years to drive')"
   ]
  },
  {
   "cell_type": "markdown",
   "metadata": {},
   "source": [
    "## ## QUESTION 2"
   ]
  },
  {
   "cell_type": "code",
   "execution_count": null,
   "metadata": {},
   "outputs": [],
   "source": [
    "\n",
    "# Compare the values of my_age and your_age using if … else. Who is older (me or you)?\n",
    "# Use input(“Enter your age: ”) to get the age as input. \n",
    "my_age = 17\n",
    "your_age = input('Enter your age: ')\n",
    "age_diff = your_age - my_age\n",
    "if my_age == your_age:\n",
    "    print('We are of the same age, which is ', my_age)\n",
    "elif age_diff == 1:\n",
    "    print(f'You are {age_diff} year older than me.')\n",
    "elif age_diff > 1:\n",
    "    print(f'You are {age_diff} years older than me.')\n",
    "else:\n",
    "    print('I am older than you')"
   ]
  },
  {
   "cell_type": "markdown",
   "metadata": {},
   "source": [
    "## QUESTION 3"
   ]
  },
  {
   "cell_type": "code",
   "execution_count": null,
   "metadata": {},
   "outputs": [],
   "source": [
    "# To return a if a is greater than b\n",
    "a = input('Enter first number: ')\n",
    "b = input('Enter second number: ')\n",
    "if a > b:\n",
    "    print('{a} is greater than {b}')\n",
    "elif a < b:\n",
    "    print('{a} is smaller than {b}')\n",
    "else:\n",
    "    print('{a} is equal to {b}')"
   ]
  },
  {
   "cell_type": "markdown",
   "metadata": {},
   "source": [
    "## Exercises: Level 2"
   ]
  },
  {
   "cell_type": "markdown",
   "metadata": {},
   "source": [
    "## question 1"
   ]
  },
  {
   "cell_type": "code",
   "execution_count": null,
   "metadata": {},
   "outputs": [],
   "source": [
    "\n",
    "# to Write a code which gives grade to students according to theirs scores:\n",
    "\n",
    "80-100, A #the scores given\n",
    "70-89, B\n",
    "60-69, C\n",
    "50-59, D\n",
    "0-49, F\"\"\n",
    "\n",
    "# my code\n",
    "if score >= 80:\n",
    "    print('Your grade is A')\n",
    "elif score >= 70:\n",
    "    print('Your grade is B')\n",
    "elif score >= 60:\n",
    "    print('Your grade is C')\n",
    "elif score >= 50:\n",
    "    print('Your grade is D')\n",
    "else:\n",
    "    print('Your grade is F')"
   ]
  },
  {
   "cell_type": "markdown",
   "metadata": {},
   "source": [
    "## question 2"
   ]
  },
  {
   "cell_type": "code",
   "execution_count": null,
   "metadata": {},
   "outputs": [],
   "source": [
    "# to Check if the season is Autumn, Winter, Spring or Summer\n",
    "if season == 'September' or 'October' or 'November':\n",
    "    print('The season is Autumn')\n",
    "elif season == 'December' or 'January' or 'February':\n",
    "    print('The season is Winter')\n",
    "elif season == 'March' or 'April' or 'May':\n",
    "    print('The season is Spring')\n",
    "elif season == 'June' or 'July' or 'August':\n",
    "    print('The season is Summer')\n",
    "else:\n",
    "    print('nothing')"
   ]
  },
  {
   "cell_type": "markdown",
   "metadata": {},
   "source": [
    "## question 3"
   ]
  },
  {
   "cell_type": "code",
   "execution_count": 17,
   "metadata": {},
   "outputs": [
    {
     "name": "stdout",
     "output_type": "stream",
     "text": [
      "Modified list is:  ['banana', 'orange', 'mango', 'lemon', 'sugarcane', None]\n"
     ]
    }
   ],
   "source": [
    "##If a fruit doesn't exist in the list add the fruit to the list and print the modified list. \n",
    "fruits = ['banana', 'orange', 'mango', 'lemon']\n",
    "new_fruit = fruits.append('sugarcane')\n",
    "if new_fruit in fruits:\n",
    "    print('That fruit already exist in the list')\n",
    "else:\n",
    "    fruits.append(new_fruit)\n",
    "    print('Modified list is: ',fruits)\n"
   ]
  },
  {
   "cell_type": "markdown",
   "metadata": {},
   "source": [
    "## Exercises: Level 3"
   ]
  },
  {
   "cell_type": "code",
   "execution_count": null,
   "metadata": {},
   "outputs": [],
   "source": [
    "person={\n",
    "    'first_name': 'Asabeneh',\n",
    "    'last_name': 'Yetayeh',\n",
    "    'age': 250,\n",
    "    'country': 'Finland',\n",
    "    'is_marred': True,\n",
    "    'skills': ['JavaScript', 'React', 'Node', 'MongoDB', 'Python'],\n",
    "    'address': {\n",
    "        'street': 'Space street',\n",
    "        'zipcode': '02210'\n",
    "    }\n",
    "    }\n",
    "\n",
    "# Check if the person dictionary has skills key, if so print out the middle skill in the skills list.\n",
    "# If a person skills has only JavaScript and React, \n",
    "# if the person skills has Node, Python, MongoDB, print('He is a backend developer'), \n",
    "# if the person skills has React, Node and MongoDB, Print('He is a fullstack developer'), \n",
    "# else print('unknown title') - for more accurate results more conditions can be nested!\n",
    "# If the person is married and if he lives in Finland, print the information in the following format:\n",
    "\n",
    "if 'skils' in 'person'\n",
    "print('middle skill in the skills list')\n",
    "if 'Javascript' and 'React' in person['skills']\n",
    "print('He is a front end developer')\n",
    "    if 'Node' and 'Python' and 'MongoDB' in person[\"skills\"]\n",
    "        print('He is a backend developer')\n",
    "    if 'React' 'Node' and 'MongoDB' in person[\"skills\"]\n",
    "        print('He is a fullstack developer')\n",
    "    else:\n",
    "        print('unknown title')\n",
    "if person['is_marred'] and 'Finland' in person['country']\n",
    "        print('Asabeneh married lives in Finland')\n"
   ]
  }
 ],
 "metadata": {
  "kernelspec": {
   "display_name": "Python 3",
   "language": "python",
   "name": "python3"
  },
  "language_info": {
   "codemirror_mode": {
    "name": "ipython",
    "version": 3
   },
   "file_extension": ".py",
   "mimetype": "text/x-python",
   "name": "python",
   "nbconvert_exporter": "python",
   "pygments_lexer": "ipython3",
   "version": "3.11.7"
  }
 },
 "nbformat": 4,
 "nbformat_minor": 2
}
