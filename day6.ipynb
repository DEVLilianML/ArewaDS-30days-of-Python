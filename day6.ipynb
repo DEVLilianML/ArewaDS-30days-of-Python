{
 "cells": [
  {
   "cell_type": "markdown",
   "metadata": {},
   "source": [
    "## Exercises: Level 1\n",
    "Question 1"
   ]
  },
  {
   "cell_type": "code",
   "execution_count": null,
   "metadata": {},
   "outputs": [],
   "source": [
    "#Create an empty tuple\n",
    "empty_tuple = tuple()"
   ]
  },
  {
   "cell_type": "markdown",
   "metadata": {},
   "source": [
    "## question 2, 3 and 4"
   ]
  },
  {
   "cell_type": "code",
   "execution_count": 1,
   "metadata": {},
   "outputs": [
    {
     "name": "stdout",
     "output_type": "stream",
     "text": [
      "('kc', 'ifeanyi', 'onyi', 'obum', 'kosi', 'Neche', 'Chioma')\n"
     ]
    }
   ],
   "source": [
    "# to create a tuple using the name of my siblings\n",
    "tpl_1 = (\"kc\", \"ifeanyi\", \"onyi\", \"obum\")\n",
    "tpl_2 = (\"kosi\", \"Neche\", \"Chioma\")\n",
    "siblings = tpl_1 + tpl_2  #Join brothers and sisters tuples and assign it to siblings\n",
    "print(siblings) #the number of siblings we have"
   ]
  },
  {
   "cell_type": "markdown",
   "metadata": {},
   "source": [
    "## question 5"
   ]
  },
  {
   "cell_type": "code",
   "execution_count": 6,
   "metadata": {},
   "outputs": [
    {
     "name": "stdout",
     "output_type": "stream",
     "text": [
      "('kc', 'ifeanyi', 'onyi', 'obum', 'kosi', 'Neche', 'Chioma', 'slyvanus', 'benedeth')\n"
     ]
    }
   ],
   "source": [
    "# to assign the name of my parents and siblings to family members\n",
    "parents = (\"slyvanus\", \"benedeth\")\n",
    "siblings = tpl_1 + tpl_2\n",
    "print(siblings + parents)"
   ]
  },
  {
   "cell_type": "markdown",
   "metadata": {},
   "source": [
    "## Exercises: Level 2"
   ]
  },
  {
   "cell_type": "markdown",
   "metadata": {},
   "source": [
    "## Queston 1"
   ]
  },
  {
   "cell_type": "code",
   "execution_count": 8,
   "metadata": {},
   "outputs": [
    {
     "name": "stdout",
     "output_type": "stream",
     "text": [
      "('kc', 'ifeanyi', 'onyi', 'obum', 'kosi', 'Neche', 'Chioma')\n",
      "('slyvanus', 'benedeth')\n"
     ]
    }
   ],
   "source": [
    "# Unpack siblings and parents from family_members\n",
    "family_members = ('kc', 'ifeanyi', 'onyi', 'obum', 'kosi', 'Neche', 'Chioma', 'slyvanus', 'benedeth')\n",
    "tpl_1 = (\"kc\", \"ifeanyi\", \"onyi\", \"obum\")\n",
    "tpl_2 = (\"kosi\", \"Neche\", \"Chioma\")\n",
    "parents = (\"slyvanus\", \"benedeth\")\n",
    "siblings = tpl_1 + tpl_2\n",
    "print(siblings)\n",
    "print(parents)\n"
   ]
  },
  {
   "cell_type": "markdown",
   "metadata": {},
   "source": [
    "## Question 2, 3 and 4"
   ]
  },
  {
   "cell_type": "code",
   "execution_count": 14,
   "metadata": {},
   "outputs": [
    {
     "name": "stdout",
     "output_type": "stream",
     "text": [
      "('orange', 'guava', 'apple', 'ugu', 'green', 'waterleave', 'beef', 'fish', 'goat')\n",
      "('ugu',)\n"
     ]
    }
   ],
   "source": [
    "\n",
    "# to Create fruits, vegetables and animal products tuples.\n",
    "fruits = (\"orange\", \"guava\", \"apple\")\n",
    "vegetable = (\"ugu\", \"green\", \"waterleave\")\n",
    "animal_product = (\"beef\", \"fish\", \"goat\")\n",
    "food_stuff_tp = fruits + vegetable + animal_product\n",
    "print(food_stuff_tp)\n",
    "\n",
    "# to change tuple to list\n",
    "food_stuff_lt = list(food_stuff_tp)\n",
    " \n",
    "# to slice out the middle item from food_stuff_it or food_stuff_tp\n",
    "print(food_stuff_tp[3:4])\n",
    "\n",
    "#Slice out the first three items \n"
   ]
  },
  {
   "cell_type": "markdown",
   "metadata": {},
   "source": [
    "## Question 5"
   ]
  },
  {
   "cell_type": "code",
   "execution_count": 16,
   "metadata": {},
   "outputs": [
    {
     "name": "stdout",
     "output_type": "stream",
     "text": [
      "('orange', 'guava', 'apple')\n"
     ]
    }
   ],
   "source": [
    "#Slice out the first three items \n",
    "food_stuff_tp  = ('orange', 'guava', 'apple', 'ugu', 'green', 'waterleave', 'beef', 'fish', 'goat')\n",
    "print(food_stuff_tp[0:3])"
   ]
  },
  {
   "cell_type": "markdown",
   "metadata": {},
   "source": [
    "## Question 6"
   ]
  },
  {
   "cell_type": "code",
   "execution_count": 17,
   "metadata": {},
   "outputs": [],
   "source": [
    "#Delete the food_staff_tp tuple completely\n",
    "food_stuff_tp  = ('orange', 'guava', 'apple', 'ugu', 'green', 'waterleave', 'beef', 'fish', 'goat')\n",
    "del food_stuff_tp"
   ]
  },
  {
   "cell_type": "markdown",
   "metadata": {},
   "source": [
    "## question 7"
   ]
  },
  {
   "cell_type": "code",
   "execution_count": 20,
   "metadata": {},
   "outputs": [
    {
     "data": {
      "text/plain": [
       "False"
      ]
     },
     "execution_count": 20,
     "metadata": {},
     "output_type": "execute_result"
    }
   ],
   "source": [
    "# Check if an item exists in tuple\n",
    "# task1-- check if 'Estonia' is a nordic country\n",
    "nordic_countries = ('Denmark', 'Finland','Iceland', 'Norway', 'Sweden')\n",
    "'Estonia' in nordic_countries\n"
   ]
  },
  {
   "cell_type": "code",
   "execution_count": 23,
   "metadata": {},
   "outputs": [],
   "source": [
    "# Check if 'Iceland' is a nordic country\n",
    "'iceland' in nordic_countries"
   ]
  }
 ],
 "metadata": {
  "kernelspec": {
   "display_name": "Python 3",
   "language": "python",
   "name": "python3"
  },
  "language_info": {
   "codemirror_mode": {
    "name": "ipython",
    "version": 3
   },
   "file_extension": ".py",
   "mimetype": "text/x-python",
   "name": "python",
   "nbconvert_exporter": "python",
   "pygments_lexer": "ipython3",
   "version": "3.11.7"
  }
 },
 "nbformat": 4,
 "nbformat_minor": 2
}
