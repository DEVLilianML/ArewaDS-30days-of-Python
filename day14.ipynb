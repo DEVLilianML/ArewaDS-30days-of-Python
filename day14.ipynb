{
 "cells": [
  {
   "cell_type": "markdown",
   "metadata": {},
   "source": [
    "## Exercises: Level 1"
   ]
  },
  {
   "cell_type": "markdown",
   "metadata": {},
   "source": [
    "## question 1"
   ]
  },
  {
   "cell_type": "code",
   "execution_count": null,
   "metadata": {},
   "outputs": [],
   "source": [
    "# Explain the difference between map, filter, and reduce.\n",
    "# Map function: it transforms every element in an array individually and creates a new array. \n",
    "# filter function :It removes elements that are not required and creates a new array containing the ones needed.\n",
    "# reduce function: It reduces all array elements into a single value."
   ]
  },
  {
   "cell_type": "markdown",
   "metadata": {},
   "source": [
    "## question 2"
   ]
  },
  {
   "cell_type": "code",
   "execution_count": null,
   "metadata": {},
   "outputs": [],
   "source": [
    "# Explain the difference between higher order function, closure and decorator.\n",
    "# A higher-order function: This is a function that either takes a function as an argument or returns a function.\n",
    "# Decorator: It is simply a function that takes another function as an argument.\n",
    "# A Closure : it is a function object that remembers values in enclosing scopes even if they are not present in memory."
   ]
  },
  {
   "cell_type": "markdown",
   "metadata": {},
   "source": [
    "## question 3"
   ]
  },
  {
   "cell_type": "code",
   "execution_count": 1,
   "metadata": {},
   "outputs": [
    {
     "name": "stdout",
     "output_type": "stream",
     "text": [
      "[2, 4, 6, 8]\n"
     ]
    }
   ],
   "source": [
    "# Define a call function before map, filter or reduce, see examples.\n",
    "def is_even(x):\n",
    "    return x % 2 == 0\n",
    "\n",
    "numbers = [1, 2, 3, 4, 5, 6, 7, 8, 9]\n",
    "even_numbers = filter(is_even, numbers)\n",
    "\n",
    "print(list(even_numbers))\n"
   ]
  },
  {
   "cell_type": "code",
   "execution_count": 4,
   "metadata": {},
   "outputs": [
    {
     "name": "stdout",
     "output_type": "stream",
     "text": [
      "Squared Numbers: [1, 4, 9, 16, 25, 36]\n",
      "Even Numbers: [2, 4, 6]\n",
      "Sum of Numbers: 21\n"
     ]
    }
   ],
   "source": [
    "\n",
    "# Define a call function before map, filter or reduce, see examples.\n",
    "def square(x):\n",
    "    return x ** 2\n",
    "\n",
    "def is_even(x):\n",
    "    return x % 2 == 0\n",
    "\n",
    "def add(x, y):\n",
    "    return x + y\n",
    "\n",
    "numbers = [1, 2, 3, 4, 5, 6]\n",
    "\n",
    "# Using map\n",
    "squared_numbers = list(map(square, numbers))\n",
    "\n",
    "# Using filter\n",
    "even_numbers = list(filter(is_even, numbers))\n",
    "\n",
    "# Using reduce\n",
    "sum_of_numbers = reduce(add, numbers)\n",
    "\n",
    "print(\"Squared Numbers:\", squared_numbers)\n",
    "print(\"Even Numbers:\", even_numbers)\n",
    "print(\"Sum of Numbers:\", sum_of_numbers)"
   ]
  },
  {
   "cell_type": "markdown",
   "metadata": {},
   "source": [
    "## queston 4"
   ]
  },
  {
   "cell_type": "code",
   "execution_count": 8,
   "metadata": {},
   "outputs": [
    {
     "name": "stdout",
     "output_type": "stream",
     "text": [
      "['Estonia', 'Finland', 'Sweden', 'Denmark', 'Norway', 'Iceland']\n"
     ]
    }
   ],
   "source": [
    "## Use for loop to print each country in the countries list.\n",
    "countries = ['Estonia', 'Finland', 'Sweden', 'Denmark', 'Norway', 'Iceland']\n",
    "whole_countries = [country for country in countries]\n",
    "print(whole_countries)"
   ]
  },
  {
   "cell_type": "markdown",
   "metadata": {},
   "source": [
    "## question 5"
   ]
  },
  {
   "cell_type": "code",
   "execution_count": 13,
   "metadata": {},
   "outputs": [
    {
     "name": "stdout",
     "output_type": "stream",
     "text": [
      "Asabeneh\n",
      "Lidiya\n",
      "Ermias\n",
      "Abraham\n"
     ]
    }
   ],
   "source": [
    "# Use for to print each name in the names list.\n",
    "names = ['Asabeneh', 'Lidiya', 'Ermias', 'Abraham']\n",
    "for name in names:\n",
    "    print(name)"
   ]
  },
  {
   "cell_type": "markdown",
   "metadata": {},
   "source": [
    "## question 6"
   ]
  },
  {
   "cell_type": "code",
   "execution_count": 14,
   "metadata": {},
   "outputs": [
    {
     "name": "stdout",
     "output_type": "stream",
     "text": [
      "1\n",
      "2\n",
      "3\n",
      "4\n",
      "5\n",
      "6\n",
      "7\n",
      "8\n",
      "9\n",
      "10\n"
     ]
    }
   ],
   "source": [
    "# Use for to print each number in the numbers list.\n",
    "numbers = [1, 2, 3, 4, 5, 6, 7, 8, 9, 10]\n",
    "for num in numbers:\n",
    "    print(num)\n"
   ]
  },
  {
   "cell_type": "markdown",
   "metadata": {},
   "source": [
    "## Exercises: Level 2"
   ]
  },
  {
   "cell_type": "markdown",
   "metadata": {},
   "source": [
    "# question 1"
   ]
  },
  {
   "cell_type": "code",
   "execution_count": 2,
   "metadata": {},
   "outputs": [
    {
     "name": "stdout",
     "output_type": "stream",
     "text": [
      "['ESTONIA', 'FINLAND', 'SWEDEN', 'DENMARK', 'NORWAY', 'ICELAND']\n"
     ]
    }
   ],
   "source": [
    "## Use map to create a new list by changing each country to uppercase in the countries list\n",
    "countries = ['Estonia', 'Finland', 'Sweden', 'Denmark', 'Norway', 'Iceland']\n",
    "def country_list_to_uppercase(country):\n",
    "    return country.upper()\n",
    "list_of_countries = map(country_list_to_uppercase, countries)\n",
    "print(list(list_of_countries))"
   ]
  },
  {
   "cell_type": "markdown",
   "metadata": {},
   "source": [
    "# question 2"
   ]
  },
  {
   "cell_type": "code",
   "execution_count": 8,
   "metadata": {},
   "outputs": [
    {
     "name": "stdout",
     "output_type": "stream",
     "text": [
      "[1, 4, 9, 16, 25, 36, 49, 64, 81, 100]\n"
     ]
    }
   ],
   "source": [
    "#Use map to create a new list by changing each number to its square in the numbers list.\n",
    "numbers = [1, 2, 3, 4, 5, 6, 7, 8, 9, 10]\n",
    "def squared_numbers(numbers):\n",
    "    square_number = lambda x: x ** 2\n",
    "squared_numbers = map(square_number, numbers)\n",
    "print(list(squared_numbers))"
   ]
  },
  {
   "cell_type": "markdown",
   "metadata": {},
   "source": [
    "# question 3"
   ]
  },
  {
   "cell_type": "code",
   "execution_count": 9,
   "metadata": {},
   "outputs": [
    {
     "name": "stdout",
     "output_type": "stream",
     "text": [
      "['ASABENEH', 'LIDIYA', 'ERMIAS', 'ABRAHAM']\n"
     ]
    }
   ],
   "source": [
    "# Use map to change each name to uppercase in the names list\n",
    "names = ['Asabeneh', 'Lidiya', 'Ermias', 'Abraham']\n",
    "def change_to_upper(name):\n",
    "    return name.upper()\n",
    "\n",
    "names_upper_cased = map(change_to_upper, names)\n",
    "print(list(names_upper_cased))"
   ]
  },
  {
   "cell_type": "markdown",
   "metadata": {},
   "source": [
    "## question 4"
   ]
  },
  {
   "cell_type": "code",
   "execution_count": 19,
   "metadata": {},
   "outputs": [
    {
     "name": "stdout",
     "output_type": "stream",
     "text": [
      "['Finland', 'Iceland']\n"
     ]
    }
   ],
   "source": [
    "# Use filter to filter out countries containing 'land\n",
    "countries = ['Estonia', 'Finland', 'Sweden', 'Denmark', 'Norway', 'Iceland']\n",
    "def countries_containing_land(country):\n",
    "    if 'land' in country:\n",
    "        return True\n",
    "    return False\n",
    "\n",
    "filtered_countries = filter(countries_containing_land, countries)\n",
    "print(list(filtered_countries))\n",
    "\n"
   ]
  },
  {
   "cell_type": "markdown",
   "metadata": {},
   "source": [
    "# question 5"
   ]
  },
  {
   "cell_type": "code",
   "execution_count": 21,
   "metadata": {},
   "outputs": [
    {
     "name": "stdout",
     "output_type": "stream",
     "text": [
      "['Sweden', 'Norway']\n"
     ]
    }
   ],
   "source": [
    "## Use filter to filter out countries having exactly six characters.\n",
    "countries = ['Estonia', 'Finland', 'Sweden', 'Denmark', 'Norway', 'Iceland']\n",
    "def six_character_countries(country):\n",
    "    if len(country) == 6:\n",
    "        return True\n",
    "    return False\n",
    "\n",
    "six_character_countries = filter(six_character_countries, countries)\n",
    "print(list(six_character_countries))"
   ]
  },
  {
   "cell_type": "markdown",
   "metadata": {},
   "source": [
    "## question 6"
   ]
  },
  {
   "cell_type": "code",
   "execution_count": 22,
   "metadata": {},
   "outputs": [
    {
     "name": "stdout",
     "output_type": "stream",
     "text": [
      "['Estonia', 'Finland', 'Sweden', 'Denmark', 'Norway', 'Iceland']\n"
     ]
    }
   ],
   "source": [
    "# Use filter to filter out countries containing six letters and more in the country list.\n",
    "countries = ['Estonia', 'Finland', 'Sweden', 'Denmark', 'Norway', 'Iceland']\n",
    "def six_character_countries(country):\n",
    "    if len(country) >= 6:\n",
    "        return True\n",
    "    return False\n",
    "\n",
    "six_character_countries = filter(six_character_countries, countries)\n",
    "print(list(six_character_countries))\n"
   ]
  },
  {
   "cell_type": "markdown",
   "metadata": {},
   "source": [
    "## question 7"
   ]
  },
  {
   "cell_type": "code",
   "execution_count": 23,
   "metadata": {},
   "outputs": [
    {
     "name": "stdout",
     "output_type": "stream",
     "text": [
      "['Estonia']\n"
     ]
    }
   ],
   "source": [
    "# Use filter to filter out countries starting with an 'E'\n",
    "def countries_starting_with_E(country):\n",
    "    if country.startswith('E'):\n",
    "        return True\n",
    "    return False\n",
    "\n",
    "countries_filtered = filter(countries_starting_with_E, countries)\n",
    "print(list(countries_filtered))"
   ]
  },
  {
   "cell_type": "markdown",
   "metadata": {},
   "source": [
    "## QUESTION 8"
   ]
  },
  {
   "cell_type": "code",
   "execution_count": null,
   "metadata": {},
   "outputs": [],
   "source": [
    "#Chain two or more list iterators (eg. arr.map(callback).filter(callback).reduce(callback))\n",
    "umbers = [1, 2, 3, 4, 5]\n",
    "\n",
    "def squared_numbers(number):\n",
    "    return number ** 2\n",
    "\n",
    "def even_num(number):\n",
    "    if number % 2 == 0:\n",
    "        return True\n",
    "    return False\n",
    "\n",
    "def add_two_nums(x, y):\n",
    "    return x + y\n",
    "\n",
    "output = reduce(add_two_nums, filter(even_num, map(squared_numbers, numbers)))\n",
    "print(output)"
   ]
  },
  {
   "cell_type": "markdown",
   "metadata": {},
   "source": [
    "## question 9\n"
   ]
  },
  {
   "cell_type": "code",
   "execution_count": 29,
   "metadata": {},
   "outputs": [
    {
     "name": "stdout",
     "output_type": "stream",
     "text": [
      "['Asabeneh', 'Lidiya', 'Ermias', 'Abraham']\n"
     ]
    }
   ],
   "source": [
    "# Declare a function called get_string_lists which takes a list as a parameter and then returns a list containing only string items.\n",
    "def get_string_lists(input_list):\n",
    "    return [item for item in input_list if isinstance(item, str)]\n",
    "\n",
    "full_list = ['Asabeneh', 'Lidiya', 'Ermias', 'Abraham']\n",
    "string_list = get_string_lists(full_list)\n",
    "\n",
    "print(string_list)"
   ]
  },
  {
   "cell_type": "markdown",
   "metadata": {},
   "source": [
    "## question 10"
   ]
  },
  {
   "cell_type": "code",
   "execution_count": 33,
   "metadata": {},
   "outputs": [
    {
     "name": "stdout",
     "output_type": "stream",
     "text": [
      "55\n"
     ]
    }
   ],
   "source": [
    "## Use reduce to sum all the numbers in the numbers list.\n",
    "from functools import reduce\n",
    "numbers = [1, 2, 3, 4, 5, 6, 7, 8, 9, 10]\n",
    "\n",
    "summation = lambda num1, num2: num1 + num2\n",
    "total = reduce(summation, numbers)\n",
    "print(total)"
   ]
  },
  {
   "cell_type": "markdown",
   "metadata": {},
   "source": [
    "## question 11"
   ]
  },
  {
   "cell_type": "code",
   "execution_count": 34,
   "metadata": {},
   "outputs": [
    {
     "name": "stdout",
     "output_type": "stream",
     "text": [
      "Estonia, Finland, Sweden, Denmark, Norway, and Iceland are north European countries.\n"
     ]
    }
   ],
   "source": [
    "#Use reduce to concatenate all the countries and to produce this sentence:\n",
    "# Estonia, Finland, Sweden, Denmark, Norway, and Iceland are north European countries\n",
    "def concatenate_countries(sentence, country):\n",
    "    if sentence:\n",
    "        if country == countries[-1]:\n",
    "            return f\"{sentence}, and {country}\"\n",
    "        else:\n",
    "            return f\"{sentence}, {country}\"\n",
    "    else:\n",
    "        return country\n",
    "\n",
    "# Use reduce to concatenate the countries\n",
    "result_sentence = reduce(concatenate_countries, countries, \"\")\n",
    "\n",
    "# Add the final part of the sentence\n",
    "result_sentence += \" are north European countries.\"\n",
    "\n",
    "print(result_sentence)"
   ]
  },
  {
   "cell_type": "markdown",
   "metadata": {},
   "source": [
    "## question 12"
   ]
  },
  {
   "cell_type": "code",
   "execution_count": 35,
   "metadata": {},
   "outputs": [
    {
     "name": "stdout",
     "output_type": "stream",
     "text": [
      "Land Countries: Finland, Iceland\n",
      "IA Countries: Estonia\n",
      "Island Countries: \n",
      "Stan Countries: \n"
     ]
    }
   ],
   "source": [
    "# Declare a function called categorize_countries that returns a list of countries with some common pattern\n",
    "# (you can find the countries list in this repository as countries.js(eg 'land', 'ia', 'island', 'stan')).\n",
    "def categorize_countries(country_list):\n",
    "    land_countries = [country for country in country_list if country.endswith('land')]\n",
    "    ia_countries = [country for country in country_list if country.endswith('ia')]\n",
    "    island_countries = [country for country in country_list if 'island' in country.lower()]\n",
    "    stan_countries = [country for country in country_list if country.endswith('stan')]\n",
    "\n",
    "    return {\n",
    "        'Land Countries': land_countries,\n",
    "        'IA Countries': ia_countries,\n",
    "        'Island Countries': island_countries,\n",
    "        'Stan Countries': stan_countries\n",
    "    }\n",
    "\n",
    "result = categorize_countries(countries)\n",
    "\n",
    "# Print the result\n",
    "for category, country_list in result.items():\n",
    "    print(f\"{category}: {', '.join(country_list)}\")"
   ]
  },
  {
   "cell_type": "markdown",
   "metadata": {},
   "source": [
    "## question 13"
   ]
  },
  {
   "cell_type": "code",
   "execution_count": 36,
   "metadata": {},
   "outputs": [
    {
     "name": "stdout",
     "output_type": "stream",
     "text": [
      "E: 1\n",
      "F: 1\n",
      "S: 1\n",
      "D: 1\n",
      "N: 1\n",
      "I: 1\n"
     ]
    }
   ],
   "source": [
    "\n",
    "# Create a function returning a dictionary,\n",
    "# where keys stand for starting letters of countries and values are the number of country names starting with that letter.\n",
    "def starting_letter_of_countries(country_list):\n",
    "    starting_letter_counts = {}\n",
    "    for country in country_list:\n",
    "        # Get the first letter of the country name\n",
    "        starting_letter = country[0].upper()\n",
    "\n",
    "        # Update the count for the starting letter\n",
    "        starting_letter_counts[starting_letter] = starting_letter_counts.get(starting_letter, 0) + 1\n",
    "\n",
    "    return starting_letter_counts\n",
    "\n",
    "result = starting_letter_of_countries(countries)\n",
    "\n",
    "# Print the result\n",
    "for starting_letter, count in result.items():\n",
    "    print(f\"{starting_letter}: {count}\")"
   ]
  },
  {
   "cell_type": "markdown",
   "metadata": {},
   "source": [
    "## question 14"
   ]
  },
  {
   "cell_type": "code",
   "execution_count": 38,
   "metadata": {},
   "outputs": [
    {
     "name": "stdout",
     "output_type": "stream",
     "text": [
      "First ten countries: ['Estonia', 'Finland', 'Sweden', 'Denmark', 'Norway', 'Iceland']\n"
     ]
    }
   ],
   "source": [
    "# Declare a get_first_ten_countries function\n",
    "# it returns a list of first ten countries from the countries.js list in the data folder.\n",
    "\n",
    "def get_first_ten_countries():\n",
    "    return countries[:10]\n",
    "\n",
    "my_first_ten = get_first_ten_countries()\n",
    "\n",
    "print(\"First ten countries:\", my_first_ten)"
   ]
  },
  {
   "cell_type": "markdown",
   "metadata": {},
   "source": [
    "## question 15"
   ]
  },
  {
   "cell_type": "code",
   "execution_count": 39,
   "metadata": {},
   "outputs": [
    {
     "name": "stdout",
     "output_type": "stream",
     "text": [
      "Last ten countries: ['Estonia', 'Finland', 'Sweden', 'Denmark', 'Norway', 'Iceland']\n"
     ]
    }
   ],
   "source": [
    "# Declare a get_last_ten_countries function that returns the last ten countries in the countries list.\n",
    "\n",
    "def get_last_ten_countries():\n",
    "    return countries[-10:]\n",
    "\n",
    "last_ten = get_last_ten_countries()\n",
    "\n",
    "print(\"Last ten countries:\", last_ten)"
   ]
  },
  {
   "cell_type": "markdown",
   "metadata": {},
   "source": [
    "# Exercises: Level 3"
   ]
  },
  {
   "cell_type": "code",
   "execution_count": null,
   "metadata": {},
   "outputs": [],
   "source": [
    "#Use the countries_data.py (https://github.com/Asabeneh/30-Days-Of-Python/blob/master/data/countries-data.py) file and follow the tasks below:\n",
    "# Sort countries by name, by capital, by population\n",
    "countries_by_name = sorted(countries_data, key=lambda x: x['name'])\n",
    "countries_by_capital = sorted(countries_data, key=lambda x: x['capital'])\n",
    "countries_by_population = sorted(countries_data, key=lambda x: x['population'])\n",
    "\n",
    "print(\"Task 1: Sort countries by name\")\n",
    "for country in countries_by_name:\n",
    "    print(country['name'])\n",
    "\n",
    "print(\"\\nTask 1: Sort countries by capital\")\n",
    "for country in countries_by_capital:\n",
    "    print(country['capital'])\n",
    "\n",
    "print(\"\\nTask 1: Sort countries by population\")\n",
    "for country in countries_by_population:\n",
    "    print(country['name'], country['population'])\n",
    "\n",
    "    \n"
   ]
  },
  {
   "cell_type": "markdown",
   "metadata": {},
   "source": [
    "## question 2"
   ]
  },
  {
   "cell_type": "code",
   "execution_count": null,
   "metadata": {},
   "outputs": [],
   "source": [
    "# Sort out the ten most spoken languages by location\n",
    "all_languages = [language for country in countries_data for language in country['languages']]\n",
    "language_counts = {language: all_languages.count(language) for language in set(all_languages)}\n",
    "top_ten_languages = sorted(language_counts.items(), key=lambda x: x[1], reverse=True)[:10]\n",
    "\n",
    "print(\"\\nTask 2: Top ten most spoken languages\")\n",
    "for language, count in top_ten_languages:\n",
    "    print(f\"{language}: {count} countries\")"
   ]
  },
  {
   "cell_type": "markdown",
   "metadata": {},
   "source": [
    "## question 3\n"
   ]
  },
  {
   "cell_type": "code",
   "execution_count": null,
   "metadata": {},
   "outputs": [],
   "source": [
    "# Sort out the ten most populated countries\n",
    "top_ten_populated_countries = sorted(countries_data, key=lambda x: x['population'], reverse=True)[:10]\n",
    "\n",
    "print(\"\\nTask 3: Top ten most populated countries\")\n",
    "for country in top_ten_populated_countries:\n",
    "    print(f\"{country['name']}: {country['population']} people\")"
   ]
  }
 ],
 "metadata": {
  "kernelspec": {
   "display_name": "Python 3",
   "language": "python",
   "name": "python3"
  },
  "language_info": {
   "codemirror_mode": {
    "name": "ipython",
    "version": 3
   },
   "file_extension": ".py",
   "mimetype": "text/x-python",
   "name": "python",
   "nbconvert_exporter": "python",
   "pygments_lexer": "ipython3",
   "version": "3.11.7"
  }
 },
 "nbformat": 4,
 "nbformat_minor": 2
}
