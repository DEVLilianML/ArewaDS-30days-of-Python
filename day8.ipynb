{
 "cells": [
  {
   "cell_type": "markdown",
   "metadata": {},
   "source": [
    "## question 1"
   ]
  },
  {
   "cell_type": "code",
   "execution_count": null,
   "metadata": {},
   "outputs": [],
   "source": [
    "# to create an empty dictionary called dog\n",
    "dog = {}"
   ]
  },
  {
   "cell_type": "markdown",
   "metadata": {},
   "source": [
    "## question 2"
   ]
  },
  {
   "cell_type": "code",
   "execution_count": null,
   "metadata": {},
   "outputs": [],
   "source": [
    "# to add name, color, breed, legs, age to the dog dictionary\n",
    "dog = {\n",
    "    'name':'Kosi'\n",
    "    'color':'red'\n",
    "    'breed':'chicken'\n",
    "    'legs':2\n",
    "    'age':13\n"
   ]
  },
  {
   "cell_type": "markdown",
   "metadata": {},
   "source": [
    "## question 3"
   ]
  },
  {
   "cell_type": "code",
   "execution_count": 14,
   "metadata": {},
   "outputs": [
    {
     "name": "stdout",
     "output_type": "stream",
     "text": [
      "{'first_name': 'kosi', 'last_name': 'Eke', 'gender': 'Female', 'age': 8, 'marital_status': 'Single', 'skills': ['CSS', 'HTML', 'React'], 'country': 'Nigeria', 'city': 'ijo', 'address': 'lagos'}\n"
     ]
    }
   ],
   "source": [
    "## to get the length of the student dictionary\n",
    "student = {'first_name':'kosi', 'last_name':'Eke', 'gender':'Female', 'age':8, 'marital_status':'Single', 'skills':['CSS', 'HTML', 'React'], 'country':'Nigeria', 'city':'ijo', 'address':'lagos'}\n",
    "print(student)"
   ]
  },
  {
   "cell_type": "markdown",
   "metadata": {},
   "source": [
    "## question 4"
   ]
  },
  {
   "cell_type": "code",
   "execution_count": 12,
   "metadata": {},
   "outputs": [
    {
     "name": "stdout",
     "output_type": "stream",
     "text": [
      "9\n"
     ]
    }
   ],
   "source": [
    "# to get the length of the student dictionary\n",
    "student = {'first_name':'kosi', 'last_name':'Eke', 'gender':'Female', 'age':8, 'marital_status':'Single', 'skills':['CSS', 'HTML', 'React'], 'country':'Nigeria', 'city':'ijo', 'address':'lagos'}\n",
    "print(len(student))"
   ]
  },
  {
   "cell_type": "markdown",
   "metadata": {},
   "source": [
    "## question 5 and 6"
   ]
  },
  {
   "cell_type": "code",
   "execution_count": 20,
   "metadata": {},
   "outputs": [
    {
     "name": "stdout",
     "output_type": "stream",
     "text": [
      "['CSS', 'HTML', 'React', 'Python']\n"
     ]
    }
   ],
   "source": [
    "## to get the value of skills and check the data type, it should be a list\n",
    "skills = ['CSS', 'HTML', 'React']\n",
    "student['skills'].append('Python')\n",
    "print(student['skills'])"
   ]
  },
  {
   "cell_type": "markdown",
   "metadata": {},
   "source": [
    "## question 7"
   ]
  },
  {
   "cell_type": "code",
   "execution_count": 25,
   "metadata": {},
   "outputs": [
    {
     "name": "stdout",
     "output_type": "stream",
     "text": [
      "dict_keys(['first_name', 'last_name', 'gender', 'age', 'marital_status', 'skills', 'country', 'city', 'address'])\n"
     ]
    }
   ],
   "source": [
    "## to get the dictionary keys as a list\n",
    "student = {'first_name':'kosi', 'last_name':'Eke', 'gender':'Female', 'age':8, 'marital_status':'Single', 'skills':['CSS', 'HTML', 'React'], 'country':'Nigeria', 'city':'ijo', 'address':'lagos'}\n",
    "student = student.keys()\n",
    "print(student)"
   ]
  },
  {
   "cell_type": "markdown",
   "metadata": {},
   "source": [
    "## question 8"
   ]
  },
  {
   "cell_type": "code",
   "execution_count": 26,
   "metadata": {},
   "outputs": [
    {
     "name": "stdout",
     "output_type": "stream",
     "text": [
      "dict_values(['kosi', 'Eke', 'Female', 8, 'Single', ['CSS', 'HTML', 'React'], 'Nigeria', 'ijo', 'lagos'])\n"
     ]
    }
   ],
   "source": [
    "## get the dictionary values as a list\n",
    "student = {'first_name':'kosi', 'last_name':'Eke', 'gender':'Female', 'age':8, 'marital_status':'Single', 'skills':['CSS', 'HTML', 'React'], 'country':'Nigeria', 'city':'ijo', 'address':'lagos'}\n",
    "student = student.values()\n",
    "print(student)"
   ]
  },
  {
   "cell_type": "markdown",
   "metadata": {},
   "source": [
    "## question 9"
   ]
  },
  {
   "cell_type": "code",
   "execution_count": 27,
   "metadata": {},
   "outputs": [
    {
     "data": {
      "text/plain": [
       "dict_items([('first_name', 'kosi'), ('last_name', 'Eke'), ('gender', 'Female'), ('age', 8), ('marital_status', 'Single'), ('skills', ['CSS', 'HTML', 'React']), ('country', 'Nigeria'), ('city', 'ijo'), ('address', 'lagos')])"
      ]
     },
     "execution_count": 27,
     "metadata": {},
     "output_type": "execute_result"
    }
   ],
   "source": [
    "## to change the dictionary to a list of tuples using items() method\n",
    "student = {'first_name':'kosi', 'last_name':'Eke', 'gender':'Female', 'age':8, 'marital_status':'Single', 'skills':['CSS', 'HTML', 'React'], 'country':'Nigeria', 'city':'ijo', 'address':'lagos'}\n",
    "student.items()"
   ]
  },
  {
   "cell_type": "markdown",
   "metadata": {},
   "source": [
    "## question 10"
   ]
  },
  {
   "cell_type": "code",
   "execution_count": 4,
   "metadata": {},
   "outputs": [
    {
     "name": "stdout",
     "output_type": "stream",
     "text": [
      "{'last_name': 'Eke', 'gender': 'Female', 'age': 8, 'marital_status': 'Single', 'skills': ['CSS', 'HTML', 'React'], 'country': 'Nigeria', 'city': 'ijo', 'address': 'lagos'}\n"
     ]
    }
   ],
   "source": [
    "# to delete one of the items in the dictionary\n",
    "student = {'first_name':'kosi', 'last_name':'Eke', 'gender':'Female', 'age':8, 'marital_status':'Single', 'skills':['CSS', 'HTML', 'React'], 'country':'Nigeria', 'city':'ijo', 'address':'lagos'}\n",
    "del student['first_name']\n",
    "print(student)\n"
   ]
  },
  {
   "cell_type": "markdown",
   "metadata": {},
   "source": [
    "## question 11\n"
   ]
  },
  {
   "cell_type": "code",
   "execution_count": null,
   "metadata": {},
   "outputs": [],
   "source": [
    "## Delete one of the dictionaries\n",
    "del dog"
   ]
  }
 ],
 "metadata": {
  "kernelspec": {
   "display_name": "Python 3",
   "language": "python",
   "name": "python3"
  },
  "language_info": {
   "codemirror_mode": {
    "name": "ipython",
    "version": 3
   },
   "file_extension": ".py",
   "mimetype": "text/x-python",
   "name": "python",
   "nbconvert_exporter": "python",
   "pygments_lexer": "ipython3",
   "version": "3.11.7"
  }
 },
 "nbformat": 4,
 "nbformat_minor": 2
}
