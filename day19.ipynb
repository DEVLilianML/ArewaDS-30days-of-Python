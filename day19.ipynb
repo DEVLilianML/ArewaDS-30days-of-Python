{
 "cells": [
  {
   "cell_type": "markdown",
   "metadata": {},
   "source": [
    "## Exercises: Level 1"
   ]
  },
  {
   "cell_type": "markdown",
   "metadata": {},
   "source": [
    "## question 1"
   ]
  },
  {
   "cell_type": "markdown",
   "metadata": {},
   "source": [
    "Write a function which count number of lines and number of words in a text. All the files are in the data the folder: a) Read obama_speech.txt file and count number of lines and words b) Read michelle_obama_speech.txt file and count number of lines and words c) Read donald_speech.txt file and count number of lines and words d) Read melina_trump_speech.txt file and count number of lines and words"
   ]
  },
  {
   "cell_type": "code",
   "execution_count": null,
   "metadata": {},
   "outputs": [],
   "source": [
    "# Write a function which count number of lines and number of words in a text:\n",
    "# a) Read obama_speech.txt file and count number of lines and words.\n",
    "def line_count_word_count(textname):\n",
    "    line_count = 0\n",
    "    word_count = 0\n",
    "    with open(textname, 'r') as txt:\n",
    "        for line in txt:\n",
    "            line_count += 1\n",
    "            word_count += len(line.split())\n",
    "        print(f\"Number of lines: {line_count}\")\n",
    "        print(f\"Number of words: {word_count}\")\n",
    "\n",
    "line_count_word_count('obama_speech.txt')"
   ]
  },
  {
   "cell_type": "code",
   "execution_count": null,
   "metadata": {},
   "outputs": [],
   "source": [
    "# b) Read michelle_obama_speech.txt file and count number of lines and words\n",
    "\n",
    "line_count_word_count('michelle_obama_speech.txt')"
   ]
  },
  {
   "cell_type": "code",
   "execution_count": null,
   "metadata": {},
   "outputs": [],
   "source": [
    "# c) Read donald_speech.txt file and count number of lines and words\n",
    "\n",
    "line_count_word_count('donald_speech.txt')"
   ]
  },
  {
   "cell_type": "code",
   "execution_count": null,
   "metadata": {},
   "outputs": [],
   "source": [
    "# d) Read melina_trump_speech.txt file and count number of lines and words\n",
    "\n",
    "line_count_word_count('melina_trump_speech.txt')"
   ]
  },
  {
   "cell_type": "markdown",
   "metadata": {},
   "source": [
    "## question 2"
   ]
  },
  {
   "cell_type": "code",
   "execution_count": null,
   "metadata": {},
   "outputs": [],
   "source": [
    "# Read the countries_data.json data file in data directory, create a function that finds the ten most spoken languages\n",
    "import json\n",
    "\n",
    "def most_populated_countries(filename, n):\n",
    "    with open(filename, 'r', encoding='utf-8') as file:\n",
    "        countries_data = json.load(file)\n",
    "\n",
    "    sorted_countries = sorted(countries_data, key=lambda x: x['population'], reverse=True)\n",
    "\n",
    "    # Take the top n countries\n",
    "    top_countries = sorted_countries[:n]\n",
    "\n",
    "    # Create a list of dictionaries with 'country' and 'population'\n",
    "    result = [{'country': country['name'], 'population': country['population']} for country in top_countries]\n",
    "\n",
    "    return result\n",
    "\n",
    "filename = './countries_data.json'\n",
    "\n",
    "result = most_populated_countries(filename, 10)\n",
    "print(result)"
   ]
  },
  {
   "cell_type": "markdown",
   "metadata": {},
   "source": [
    "## question 3"
   ]
  },
  {
   "cell_type": "code",
   "execution_count": null,
   "metadata": {},
   "outputs": [],
   "source": [
    "#Read the countries_data.json data file in data directory, create a function that creates a list of the ten most populated countries\n",
    "import json\n",
    "\n",
    "def get_most_populated_countries(file_path, top_n=10):\n",
    "    with open(file_path, 'r', encoding='utf-8') as file:\n",
    "        data = json.load(file)\n",
    "\n",
    "    # Extract country names and populations\n",
    "    country_populations = [(country['name'], country['population']) for country in data]\n",
    "\n",
    "    # Sort the countries based on population in descending order\n",
    "    sorted_countries = sorted(country_populations, key=lambda x: x[1], reverse=True)\n",
    "\n",
    "    # Get the top N most populated countries\n",
    "    most_populated_countries = sorted_countries[:top_n]\n",
    "\n",
    "    return most_populated_countries\n",
    "\n",
    "\n",
    "\n",
    "# Get the ten most populated countries\n",
    "most_populated_countries = get_most_populated_countries(json_file_path, top_n=10)\n",
    "\n",
    "# Print the result\n",
    "print(\"Ten Most Populated Countries:\")\n",
    "for country, population in most_populated_countries:\n",
    "    print(f\"{country}: {population} people\")"
   ]
  },
  {
   "cell_type": "markdown",
   "metadata": {},
   "source": [
    "## Exercises: Level 2"
   ]
  },
  {
   "cell_type": "code",
   "execution_count": null,
   "metadata": {},
   "outputs": [],
   "source": [
    "## Extract all incoming email addresses as a list from the email_exchange_big.txt file.\n",
    "import re\n",
    "\n",
    "def extract_email_addresses(file_path):\n",
    "    email_addresses = set()\n",
    "\n",
    "    with open(file_path, 'r', encoding='utf-8') as file:\n",
    "        content = file.read()\n",
    "\n",
    "        # Use regular expression to find email addresses\n",
    "        pattern = r'\\b[A-Za-z0-9._%+-]+@[A-Za-z0-9.-]+\\.[A-Z|a-z]{2,}\\b'\n",
    "        matches = re.findall(pattern, content)\n",
    "\n",
    "        # Add unique email addresses to the set\n",
    "        email_addresses.update(matches)\n",
    "\n",
    "    return list(email_addresses)\n",
    "\n",
    "# Example usage:\n",
    "file_path = 'email_exchange_big.txt'\n",
    "email_addresses = extract_email_addresses(file_path)\n",
    "\n",
    "print(\"Extracted Email Addresses:\")\n",
    "print(email_addresses)\n"
   ]
  },
  {
   "cell_type": "markdown",
   "metadata": {},
   "source": [
    "## qusetion 6"
   ]
  },
  {
   "cell_type": "code",
   "execution_count": null,
   "metadata": {},
   "outputs": [],
   "source": [
    "\"\"\"\"\n",
    "Use the function, find_most_frequent_words to find: \n",
    "a) The ten most frequent words used in Obama's speech\n",
    "\"\"\"\n",
    "\n",
    "obama_result = find_most_common_words('obama_speech.txt', 10)\n",
    "print(obama_result)"
   ]
  },
  {
   "cell_type": "markdown",
   "metadata": {},
   "source": [
    "## question 7 and 8"
   ]
  },
  {
   "cell_type": "code",
   "execution_count": null,
   "metadata": {},
   "outputs": [],
   "source": [
    "import re\n",
    "from sklearn.feature_extraction.text import TfidfVectorizer\n",
    "from sklearn.metrics.pairwise import cosine_similarity\n",
    "\n",
    "def clean_text(text):\n",
    "    # Remove non-alphanumeric characters and convert to lowercase\n",
    "    cleaned_text = re.sub(r'[^a-zA-Z0-9\\s]', '', text).lower()\n",
    "    return cleaned_text\n",
    "\n",
    "def remove_support_words(text, stop_words):\n",
    "    # Remove stop words from the text\n",
    "    words = text.split()\n",
    "    filtered_words = [word for word in words if word not in stop_words]\n",
    "    return ' '.join(filtered_words)\n",
    "\n",
    "def check_text_similarity(text1, text2, stop_words):\n",
    "    # Clean and remove stop words from both texts\n",
    "    clean_text1 = remove_support_words(clean_text(text1), stop_words)\n",
    "    clean_text2 = remove_support_words(clean_text(text2), stop_words)\n",
    "\n",
    "    # Use TF-IDF Vectorizer to convert text to numerical vectors\n",
    "    vectorizer = TfidfVectorizer()\n",
    "    vectors = vectorizer.fit_transform([clean_text1, clean_text2])\n",
    "\n",
    "    # Calculate cosine similarity between the vectors\n",
    "    similarity = cosine_similarity(vectors[0], vectors[1])[0][0]\n",
    "\n",
    "    return similarity\n",
    "\n",
    "def main():\n",
    "    # Load stop words from file\n",
    "    with open('data/stop_words.txt', 'r', encoding='utf-8') as stop_words_file:\n",
    "        stop_words = stop_words_file.read().splitlines()\n",
    "\n",
    "    # Read the transcripts of Michelle's and Melania's speeches\n",
    "    with open('data/michelle_obama_speech.txt', 'r', encoding='utf-8') as michelle_file:\n",
    "        michelle_speech = michelle_file.read()\n",
    "\n",
    "    with open('data/melania_trump_speech.txt', 'r', encoding='utf-8') as melania_file:\n",
    "        melania_speech = melania_file.read()\n",
    "\n",
    "    # Check the similarity between the two speeches\n",
    "    similarity = check_text_similarity(michelle_speech, melania_speech, stop_words)\n",
    "\n",
    "    print(f\"Similarity between Michelle's and Melania's speeches: {similarity:.2%}\")\n",
    "\n",
    "if __name__ == \"__main__\":\n",
    "    main()\n"
   ]
  }
 ],
 "metadata": {
  "kernelspec": {
   "display_name": "Python 3",
   "language": "python",
   "name": "python3"
  },
  "language_info": {
   "codemirror_mode": {
    "name": "ipython",
    "version": 3
   },
   "file_extension": ".py",
   "mimetype": "text/x-python",
   "name": "python",
   "nbconvert_exporter": "python",
   "pygments_lexer": "ipython3",
   "version": "3.11.7"
  }
 },
 "nbformat": 4,
 "nbformat_minor": 2
}
