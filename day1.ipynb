{
 "cells": [
  {
   "cell_type": "markdown",
   "metadata": {},
   "source": [
    "## question 1"
   ]
  },
  {
   "cell_type": "code",
   "execution_count": 4,
   "metadata": {},
   "outputs": [
    {
     "name": "stdout",
     "output_type": "stream",
     "text": [
      "<class 'int'>\n"
     ]
    }
   ],
   "source": [
    "print(type(2+2))"
   ]
  },
  {
   "cell_type": "markdown",
   "metadata": {},
   "source": [
    "## question 2"
   ]
  },
  {
   "cell_type": "code",
   "execution_count": null,
   "metadata": {},
   "outputs": [],
   "source": [
    "# EXERCISE 1 (question 1) i am using python 3.11\n",
    "\n",
    "# question 2\n",
    "print(3+4) # addiction\n",
    "print(3-4) # subtraction\n",
    "print(3*4) # multiplication\n",
    "print(3%4) # modulus\n",
    "print(3/4) # division\n",
    "print(3**4) # exponential\n",
    "print(3//4) # floor division operator\n",
    "\n",
    "# question 3\n",
    "'my name is Obianuju lilian Onuoha'\n",
    "\"my family name is Onuoha\"\n",
    "\"my country is Nigeria\"\n",
    "'i am enjoying 30 days of python'\n",
    "\n",
    "# question 4  --checking data types\n",
    "print(type(10))\n",
    "print(type(9.8))\n",
    "print(type(3.14))\n",
    "print(type(4-4j))\n",
    "print(type('Asabeneh', 'Python', 'Finland'))\n",
    "print(type('Lilian'))\n",
    "print(type('Onuoha'))\n",
    "print(type(Nigeria))\n",
    "\n",
    "#Exercise 3 --examples of different data types\n",
    "40 #inter\n",
    "2.04 #float\n",
    "8 + 3j #complex\n",
    "'Lilian' #string\n",
    "True #Bolean\n",
    "['Orange', 20, False, 9.81] #list of different data types\n",
    "('Henry', 'Jenny', 'Lilian') # Tuple\n",
    "\n",
    "([8, 12, 7.3], [5, 8, 0, 6]) # set\n",
    "\n",
    "{name: dog, bark:yes\n",
    "\n",
    "\n",
    "\n",
    "\n",
    "\n"
   ]
  }
 ],
 "metadata": {
  "kernelspec": {
   "display_name": "Python 3",
   "language": "python",
   "name": "python3"
  },
  "language_info": {
   "codemirror_mode": {
    "name": "ipython",
    "version": 3
   },
   "file_extension": ".py",
   "mimetype": "text/x-python",
   "name": "python",
   "nbconvert_exporter": "python",
   "pygments_lexer": "ipython3",
   "version": "3.11.7"
  }
 },
 "nbformat": 4,
 "nbformat_minor": 2
}
