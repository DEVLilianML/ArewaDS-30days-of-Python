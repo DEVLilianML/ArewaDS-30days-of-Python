{
 "cells": [
  {
   "cell_type": "markdown",
   "metadata": {},
   "source": [
    "## questiion 1\n"
   ]
  },
  {
   "cell_type": "code",
   "execution_count": 6,
   "metadata": {},
   "outputs": [
    {
     "name": "stdout",
     "output_type": "stream",
     "text": [
      "2024-01-06 11:15:17.524603\n",
      "6 1 2024 11 15\n",
      "timestamp 1704536117.524603\n"
     ]
    }
   ],
   "source": [
    "# Get the current day, month, year, hour, minute and timestamp from datetime module\n",
    "from datetime import datetime\n",
    "now = datetime.now()\n",
    "print(now)                     \n",
    "day = now.day                  \n",
    "month = now.month              \n",
    "year = now.year                 \n",
    "hour = now.hour                \n",
    "minute = now.minute             \n",
    "second = now.second\n",
    "timestamp = now.timestamp()\n",
    "print(day, month, year, hour, minute)\n",
    "print('timestamp', timestamp)"
   ]
  },
  {
   "cell_type": "markdown",
   "metadata": {},
   "source": [
    "## question 2"
   ]
  },
  {
   "cell_type": "code",
   "execution_count": 7,
   "metadata": {},
   "outputs": [
    {
     "name": "stdout",
     "output_type": "stream",
     "text": [
      "time: 11:18:17\n",
      "time one: 01/06/2024, 11:18:17\n",
      "time two: 06/01/2024, 11:18:17\n"
     ]
    }
   ],
   "source": [
    "# Format the current date using this format: \"%m/%d/%Y, %H:%M:%S\")\n",
    "from datetime import datetime\n",
    "# current date and time\n",
    "now = datetime.now()\n",
    "t = now.strftime(\"%H:%M:%S\")\n",
    "print(\"time:\", t)\n",
    "time_one = now.strftime(\"%m/%d/%Y, %H:%M:%S\")\n",
    "# mm/dd/YY H:M:S format\n",
    "print(\"time one:\", time_one)\n",
    "time_two = now.strftime(\"%d/%m/%Y, %H:%M:%S\")\n",
    "# dd/mm/YY H:M:S format\n",
    "print(\"time two:\", time_two)"
   ]
  },
  {
   "cell_type": "markdown",
   "metadata": {},
   "source": [
    "## question 3"
   ]
  },
  {
   "cell_type": "code",
   "execution_count": 8,
   "metadata": {},
   "outputs": [
    {
     "name": "stdout",
     "output_type": "stream",
     "text": [
      "date_string = 5 December, 2019\n",
      "date_object = 2019-12-05 00:00:00\n"
     ]
    }
   ],
   "source": [
    "## Today is 5 December, 2019. Change this time string to time.\n",
    "from datetime import datetime\n",
    "date_string = \"5 December, 2019\"\n",
    "print(\"date_string =\", date_string)\n",
    "date_object = datetime.strptime(date_string, \"%d %B, %Y\")\n",
    "print(\"date_object =\", date_object)"
   ]
  },
  {
   "cell_type": "markdown",
   "metadata": {},
   "source": [
    "## question 4"
   ]
  },
  {
   "cell_type": "code",
   "execution_count": 9,
   "metadata": {},
   "outputs": [
    {
     "name": "stdout",
     "output_type": "stream",
     "text": [
      "Time left for new year:  361 days, 0:00:00\n"
     ]
    }
   ],
   "source": [
    "##Calculate the time difference between now and new year.\n",
    "from datetime import date\n",
    "today = date(year=2024, month=1, day=6)\n",
    "new_year = date(year=2025, month=1, day=1)\n",
    "time_left_for_newyear = new_year - today\n",
    "\n",
    "print('Time left for new year: ', time_left_for_newyear)"
   ]
  },
  {
   "cell_type": "markdown",
   "metadata": {},
   "source": [
    "## question 5"
   ]
  },
  {
   "cell_type": "code",
   "execution_count": 11,
   "metadata": {},
   "outputs": [
    {
     "name": "stdout",
     "output_type": "stream",
     "text": [
      "The time difference between 1 January 1970 and now is:  19728 days, 0:00:00\n"
     ]
    }
   ],
   "source": [
    "# Calculate the time difference between 1 January 1970 and now.\n",
    "today = date(year=2024, month=1, day=6)\n",
    "other_year = date(year=1970, month=1, day=1)\n",
    "time_difference = today - other_year\n",
    "\n",
    "print('The time difference between 1 January 1970 and now is: ', time_difference)"
   ]
  },
  {
   "cell_type": "markdown",
   "metadata": {},
   "source": [
    "## question 6"
   ]
  },
  {
   "cell_type": "code",
   "execution_count": null,
   "metadata": {},
   "outputs": [],
   "source": [
    "# Think, what can you use the datetime module for? Examples:\n",
    "# Time series analysis\n",
    "# To get a timestamp of any activities in an application\n",
    "# Adding posts on a blog\n",
    "\n",
    "\n"
   ]
  }
 ],
 "metadata": {
  "kernelspec": {
   "display_name": "Python 3",
   "language": "python",
   "name": "python3"
  },
  "language_info": {
   "codemirror_mode": {
    "name": "ipython",
    "version": 3
   },
   "file_extension": ".py",
   "mimetype": "text/x-python",
   "name": "python",
   "nbconvert_exporter": "python",
   "pygments_lexer": "ipython3",
   "version": "3.11.7"
  }
 },
 "nbformat": 4,
 "nbformat_minor": 2
}
