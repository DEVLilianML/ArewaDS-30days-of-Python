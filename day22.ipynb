{
 "cells": [
  {
   "cell_type": "markdown",
   "metadata": {},
   "source": [
    "## question 1"
   ]
  },
  {
   "cell_type": "markdown",
   "metadata": {},
   "source": [
    "Scrape the following website and store the data as json file(url = 'http://www.bu.edu/president/boston-university-facts-stats/')."
   ]
  },
  {
   "cell_type": "code",
   "execution_count": 6,
   "metadata": {},
   "outputs": [
    {
     "ename": "ModuleNotFoundError",
     "evalue": "No module named 'requests'",
     "output_type": "error",
     "traceback": [
      "\u001b[1;31m---------------------------------------------------------------------------\u001b[0m",
      "\u001b[1;31mModuleNotFoundError\u001b[0m                       Traceback (most recent call last)",
      "Cell \u001b[1;32mIn[6], line 1\u001b[0m\n\u001b[1;32m----> 1\u001b[0m \u001b[38;5;28;01mimport\u001b[39;00m \u001b[38;5;21;01mrequests\u001b[39;00m\n\u001b[0;32m      2\u001b[0m \u001b[38;5;28;01mfrom\u001b[39;00m \u001b[38;5;21;01mbs4\u001b[39;00m \u001b[38;5;28;01mimport\u001b[39;00m BeautifulSoup\n\u001b[0;32m      3\u001b[0m \u001b[38;5;28;01mimport\u001b[39;00m \u001b[38;5;21;01mjson\u001b[39;00m\n",
      "\u001b[1;31mModuleNotFoundError\u001b[0m: No module named 'requests'"
     ]
    }
   ],
   "source": [
    "\n",
    "import requests\n",
    "from bs4 import BeautifulSoup\n",
    "import json\n",
    "\n",
    "url = 'http://www.bu.edu/president/boston-university-facts-stats/'\n",
    "\n",
    "# Fetch the HTML content of the website\n",
    "response = requests.get(url)\n",
    "html_content = response.content\n",
    "\n",
    "# Parse the HTML using BeautifulSoup\n",
    "soup = BeautifulSoup(html_content, 'html.parser')\n",
    "\n",
    "# Extract the data you need from the HTML (replace this with your own logic)\n",
    "# For example, let's extract all paragraphs from the page\n",
    "paragraphs = [p.text.strip() for p in soup.find_all('p')]\n",
    "\n",
    "# Store the data as a JSON file\n",
    "data_to_store = {'paragraphs': paragraphs}\n",
    "with open('data.json', 'w') as json_file:\n",
    "    json.dump(data_to_store, json_file, indent=4)\n",
    "\n",
    "print('Data has been scraped and stored in data.json.')\n",
    "\n"
   ]
  },
  {
   "cell_type": "markdown",
   "metadata": {},
   "source": [
    "## question 2"
   ]
  },
  {
   "cell_type": "markdown",
   "metadata": {},
   "source": [
    "Extract the table in this url (https://archive.ics.uci.edu/ml/datasets.php) and change it to a json file"
   ]
  },
  {
   "cell_type": "code",
   "execution_count": null,
   "metadata": {},
   "outputs": [],
   "source": [
    "import pandas as pd\n",
    "\n",
    "url = 'https://archive.ics.uci.edu/ml/datasets.php'\n",
    "\n",
    "# Read HTML tables from the URL\n",
    "tables = pd.read_html(url)\n",
    "\n",
    "# Assuming you want the first table on the page\n",
    "table_data = tables[0]\n",
    "\n",
    "# Convert the table data to JSON and save it to a file\n",
    "json_data = table_data.to_json(orient='records', indent=4)\n",
    "\n",
    "with open('uci_datasets.json', 'w') as json_file:\n",
    "    json_file.write(json_data)\n",
    "\n",
    "print('Table data has been extracted and saved as uci_datasets.json.')\n"
   ]
  },
  {
   "cell_type": "markdown",
   "metadata": {},
   "source": [
    "## question 3"
   ]
  },
  {
   "cell_type": "markdown",
   "metadata": {},
   "source": [
    "Scrape the presidents table and store the data as json(https://en.wikipedia.org/wiki/List_of_presidents_of_the_United_States). The table is not very structured and the scrapping may take very long time"
   ]
  },
  {
   "cell_type": "code",
   "execution_count": null,
   "metadata": {},
   "outputs": [],
   "source": [
    "import requests\n",
    "from bs4 import BeautifulSoup\n",
    "import json\n",
    "\n",
    "url = 'https://en.wikipedia.org/wiki/List_of_presidents_of_the_United_States'\n",
    "\n",
    "# Fetch the HTML content of the website\n",
    "response = requests.get(url)\n",
    "html_content = response.content\n",
    "\n",
    "# Parse the HTML using BeautifulSoup\n",
    "soup = BeautifulSoup(html_content, 'html.parser')\n",
    "\n",
    "# Find the presidents table (you may need to inspect the HTML to adapt this part)\n",
    "presidents_table = soup.find('table', {'class': 'wikitable'})\n",
    "\n",
    "# Extract data from the table (customize this part based on the actual HTML structure)\n",
    "presidents_data = []\n",
    "\n",
    "if presidents_table:\n",
    "    rows = presidents_table.find_all('tr')[1:]  # Skip the header row\n",
    "    for row in rows:\n",
    "        columns = row.find_all(['td', 'th'])\n",
    "        president_info = [col.get_text(strip=True) for col in columns]\n",
    "        presidents_data.append(president_info)\n",
    "\n",
    "# Store the data as a JSON file\n",
    "json_data = {'presidents': presidents_data}\n",
    "with open('presidents_data.json', 'w') as json_file:\n",
    "    json.dump(json_data, json_file, indent=4)\n",
    "\n",
    "print('Presidents data has been scraped and stored in presidents_data.json.')\n"
   ]
  }
 ],
 "metadata": {
  "kernelspec": {
   "display_name": "Python 3",
   "language": "python",
   "name": "python3"
  },
  "language_info": {
   "codemirror_mode": {
    "name": "ipython",
    "version": 3
   },
   "file_extension": ".py",
   "mimetype": "text/x-python",
   "name": "python",
   "nbconvert_exporter": "python",
   "pygments_lexer": "ipython3",
   "version": "3.11.7"
  }
 },
 "nbformat": 4,
 "nbformat_minor": 2
}
