{
 "cells": [
  {
   "cell_type": "markdown",
   "metadata": {},
   "source": [
    "## Exercises: Level 1\n"
   ]
  },
  {
   "cell_type": "code",
   "execution_count": 2,
   "metadata": {},
   "outputs": [],
   "source": [
    "# Declare a function add_two_numbers. It takes two parameters and it returns a sum.\n",
    "def add_two_numbers(num_1, num_2):\n",
    "    space = ' '\n",
    "    sum = num_1 + num_2\n",
    "    return sum"
   ]
  },
  {
   "cell_type": "markdown",
   "metadata": {},
   "source": [
    "# question 2"
   ]
  },
  {
   "cell_type": "code",
   "execution_count": 3,
   "metadata": {},
   "outputs": [
    {
     "name": "stdout",
     "output_type": "stream",
     "text": [
      "314.0\n"
     ]
    }
   ],
   "source": [
    "# Area of a circle is calculated as follows: area = π x r x r. Write a function that calculates area_of_circle.\n",
    "def area_of_circle (r):\n",
    "    PI = 3.14\n",
    "    area = PI * r ** 2\n",
    "    return area\n",
    "print(area_of_circle(10))\n"
   ]
  },
  {
   "cell_type": "markdown",
   "metadata": {},
   "source": [
    "## question 3"
   ]
  },
  {
   "cell_type": "code",
   "execution_count": 4,
   "metadata": {},
   "outputs": [
    {
     "name": "stdout",
     "output_type": "stream",
     "text": [
      "10\n"
     ]
    }
   ],
   "source": [
    "#Write a function called add_all_nums which takes arbitrary number of arguments and sums all the arguments.\n",
    "#Check if all the list items are number types. If not do give a reasonable feedback.\n",
    "def add_all_nums(*nums):\n",
    "    total = 0\n",
    "    for num in nums:\n",
    "        total += num     # same as total = total + num \n",
    "    return total\n",
    "print(add_all_nums(2, 3, 5)) # 10"
   ]
  },
  {
   "cell_type": "markdown",
   "metadata": {},
   "source": [
    "# question 4"
   ]
  },
  {
   "cell_type": "code",
   "execution_count": 5,
   "metadata": {},
   "outputs": [
    {
     "name": "stdout",
     "output_type": "stream",
     "text": [
      "10°C is equivalent to 50.0°F\n"
     ]
    }
   ],
   "source": [
    "# Temperature in °C can be converted to °F using this formula: °F = (°C x 9/5) + 32.\n",
    "# Write a function which converts °C to °F, convert_celsius_to-fahrenheit.\n",
    "def convert_celsius_to_fahrenheit(celsius):\n",
    "    fahrenheit = (celsius * (9/5)) + 32\n",
    "    print('{celsius}°C is equivalent to {fahrenheit}°F')\n",
    "convert_celsius_to_fahrenheit(10)"
   ]
  },
  {
   "cell_type": "markdown",
   "metadata": {},
   "source": [
    "## question 5"
   ]
  },
  {
   "cell_type": "code",
   "execution_count": null,
   "metadata": {},
   "outputs": [],
   "source": [
    "#Write a function called check-season, \n",
    "#it takes a month parameter and returns the season: Autumn, Winter, Spring or Summer\n",
    "def check_season(month):\n",
    "if season = Autumn == Winter == Spring == Summer\n",
    "print(season)"
   ]
  },
  {
   "cell_type": "markdown",
   "metadata": {},
   "source": [
    "## question 6"
   ]
  },
  {
   "cell_type": "code",
   "execution_count": 11,
   "metadata": {},
   "outputs": [
    {
     "data": {
      "text/plain": [
       "2.0"
      ]
     },
     "execution_count": 11,
     "metadata": {},
     "output_type": "execute_result"
    }
   ],
   "source": [
    "# Write a function called calculate_slope which return the slope of a linear equation\n",
    "def calculate_slope(a,x,c):\n",
    "    slope = (y - c)/ x\n",
    "    return slope\n",
    "calculate_slope(6,2,2)"
   ]
  },
  {
   "cell_type": "markdown",
   "metadata": {},
   "source": [
    "## question 7"
   ]
  },
  {
   "cell_type": "code",
   "execution_count": 14,
   "metadata": {},
   "outputs": [
    {
     "name": "stdout",
     "output_type": "stream",
     "text": [
      "x = -1.0 or x = -2.0\n"
     ]
    }
   ],
   "source": [
    "## Quadratic equation is calculated as follows: ax² + bx + c = 0. \n",
    "#Write a function which calculates solution set of a quadratic equation, solve_quadratic_eqn.\n",
    "\n",
    "def solve_quadratic_eqn(a,b,c):\n",
    "    task_1 = (-b + (b**2 - 4*a*c)**0.5) / (2*a)\n",
    "    task_2 = (-b - (b**2 - 4*a*c)**0.5) / (2*a)\n",
    "    print(f'x = {task_1} or x = {task_2}')\n",
    "solve_quadratic_eqn(1,3,2)"
   ]
  },
  {
   "cell_type": "markdown",
   "metadata": {},
   "source": [
    "## question 8"
   ]
  },
  {
   "cell_type": "code",
   "execution_count": 21,
   "metadata": {},
   "outputs": [
    {
     "name": "stdout",
     "output_type": "stream",
     "text": [
      "1\n",
      "3\n",
      "5\n",
      "7\n",
      "9\n"
     ]
    }
   ],
   "source": [
    "#Declare a function named print_list. It takes a list as a parameter and it prints out each element of the list.\n",
    "def print_list(full_list):\n",
    "    for number in full_list:\n",
    "        print(number)\n",
    "\n",
    "full_list = [1, 3, 5, 7, 9]\n",
    "print_list(full_list)"
   ]
  },
  {
   "cell_type": "markdown",
   "metadata": {},
   "source": [
    "## question 9"
   ]
  },
  {
   "cell_type": "code",
   "execution_count": 25,
   "metadata": {},
   "outputs": [
    {
     "data": {
      "text/plain": [
       "[5, 4, 3, 2, 1]"
      ]
     },
     "execution_count": 25,
     "metadata": {},
     "output_type": "execute_result"
    }
   ],
   "source": [
    "#Declare a function named reverse_list.\n",
    "#It takes an array as a parameter and it returns the reverse of the array (use loops).\n",
    "#print(reverse_list([1, 2, 3, 4, 5]))\n",
    "# [5, 4, 3, 2, 1]\n",
    "#print(reverse_list1([\"A\", \"B\", \"C\"]))\n",
    "# [\"C\", \"B\", \"A\"]\n",
    "\n",
    "def reverse_list(array):\n",
    "    return array[::-1]\n",
    "reverse_list([1,2,3,4,5])"
   ]
  },
  {
   "cell_type": "markdown",
   "metadata": {},
   "source": [
    "# question 10"
   ]
  },
  {
   "cell_type": "code",
   "execution_count": null,
   "metadata": {},
   "outputs": [],
   "source": [
    "## Declare a function named capitalize_list_items. \n",
    "#It takes a list as a parameter and it returns a capitalized list of items.\n",
    "def capitalize_list_items(list_items):\n",
    "    for list in list_items:\n",
    "    return(list)\n"
   ]
  },
  {
   "cell_type": "markdown",
   "metadata": {},
   "source": [
    "## question 11"
   ]
  },
  {
   "cell_type": "code",
   "execution_count": 32,
   "metadata": {},
   "outputs": [
    {
     "name": "stdout",
     "output_type": "stream",
     "text": [
      "['Potato', 'Tomato', 'Mango', 'Milk', 'Meat']\n"
     ]
    }
   ],
   "source": [
    "#Declare a function named add_item. It takes a list and an item parameters.\n",
    "#It returns a list with the item added at the end.\n",
    "food_staff = ['Potato', 'Tomato', 'Mango', 'Milk'];\n",
    "print(add_item(food_staff, 'Meat'))     # ['Potato', 'Tomato', 'Mango', 'Milk','Meat'];\n"
   ]
  },
  {
   "cell_type": "markdown",
   "metadata": {},
   "source": [
    "## question 12"
   ]
  },
  {
   "cell_type": "code",
   "execution_count": 13,
   "metadata": {},
   "outputs": [
    {
     "data": {
      "text/plain": [
       "['potato', 'tomato', 'mango']"
      ]
     },
     "execution_count": 13,
     "metadata": {},
     "output_type": "execute_result"
    }
   ],
   "source": [
    "#decare a function named remove_item. It takes a list and an item parameters.\n",
    "# It returns a list with the item removed from it.\n",
    "def remove_item(lst, food_staff):\n",
    "    lst.remove(food_staff)\n",
    "    return lst\n",
    "food_staff = ['potato','tomato','mango','milk']\n",
    "remove_item(food_staff,'milk')"
   ]
  },
  {
   "cell_type": "markdown",
   "metadata": {},
   "source": [
    "# question 13"
   ]
  },
  {
   "cell_type": "code",
   "execution_count": 19,
   "metadata": {},
   "outputs": [
    {
     "data": {
      "text/plain": [
       "15"
      ]
     },
     "execution_count": 19,
     "metadata": {},
     "output_type": "execute_result"
    }
   ],
   "source": [
    "#Declare a function named sum_of_numbers. It takes a number parameter and it adds all the numbers in that range.\n",
    "def sum_of_numbers(num):\n",
    "    total = 0\n",
    "    for i in range(num+1):\n",
    "        total += i\n",
    "    return total\n",
    "sum_of_numbers(5)\n"
   ]
  },
  {
   "cell_type": "markdown",
   "metadata": {},
   "source": [
    "# question 14"
   ]
  },
  {
   "cell_type": "code",
   "execution_count": 24,
   "metadata": {},
   "outputs": [],
   "source": [
    "#Declare a function named sum_of_odds. It takes a number parameter and it adds all the odd numbers in that range.\n",
    "def sum_of_odds(num):\n",
    "    sum = 0\n",
    "    for i in range(num + 1):\n",
    "     if i >= num:\n",
    "       return sum"
   ]
  },
  {
   "cell_type": "markdown",
   "metadata": {},
   "source": [
    "##question 15"
   ]
  },
  {
   "cell_type": "code",
   "execution_count": 21,
   "metadata": {},
   "outputs": [
    {
     "data": {
      "text/plain": [
       "30"
      ]
     },
     "execution_count": 21,
     "metadata": {},
     "output_type": "execute_result"
    }
   ],
   "source": [
    "# Declare a function named sum_of_even. It takes a number parameter and it adds all the even numbers in that - range.\n",
    "def sum_of_even(num):\n",
    "    total = 0\n",
    "    for i in range(num + 1):\n",
    "        if i % 2 ==0:\n",
    "            total += i\n",
    "    return total\n",
    "sum_of_even(11)"
   ]
  },
  {
   "cell_type": "markdown",
   "metadata": {},
   "source": [
    "## Exercises: Level 2"
   ]
  },
  {
   "cell_type": "code",
   "execution_count": 28,
   "metadata": {},
   "outputs": [],
   "source": [
    "# Declare a function named evens_and_odds . \n",
    "#It takes a positive integer as parameter and it counts number of evens and odds in the number.\n",
    "def evens_and_odds(num):\n",
    "       for i in range(num+1):\n",
    "        if i % 2 != 0:\n",
    "            total_odd.append(i)\n",
    "            print(evens_and_odds(100))"
   ]
  },
  {
   "cell_type": "markdown",
   "metadata": {},
   "source": [
    "# question 1"
   ]
  },
  {
   "cell_type": "code",
   "execution_count": 30,
   "metadata": {},
   "outputs": [
    {
     "data": {
      "text/plain": [
       "720"
      ]
     },
     "execution_count": 30,
     "metadata": {},
     "output_type": "execute_result"
    }
   ],
   "source": [
    "# Call your function factorial, it takes a whole number as a parameter and it return a factorial of the number\n",
    "def factorial(number):\n",
    "    factorial_number = 1\n",
    "    for i in range(1, number+1):\n",
    "        factorial_number *= i\n",
    "    return factorial_number\n",
    "factorial(6)"
   ]
  },
  {
   "cell_type": "markdown",
   "metadata": {},
   "source": [
    "# question 2"
   ]
  },
  {
   "cell_type": "code",
   "execution_count": 31,
   "metadata": {},
   "outputs": [
    {
     "data": {
      "text/plain": [
       "True"
      ]
     },
     "execution_count": 31,
     "metadata": {},
     "output_type": "execute_result"
    }
   ],
   "source": [
    "# to Call your function is_empty, it takes a parameter and it checks if it is empty or not\n",
    "def is_empty(null):\n",
    "    return not bool(null)\n",
    "empty_string = ''\n",
    "is_empty(empty_null)"
   ]
  },
  {
   "cell_type": "markdown",
   "metadata": {},
   "source": [
    "## question 3"
   ]
  },
  {
   "cell_type": "code",
   "execution_count": 34,
   "metadata": {},
   "outputs": [
    {
     "data": {
      "text/plain": [
       "6.0"
      ]
     },
     "execution_count": 34,
     "metadata": {},
     "output_type": "execute_result"
    }
   ],
   "source": [
    "# Write different functions which take lists. \n",
    "#They should calculate_mean, calculate_median, calculate_mode, calculate_range,\n",
    "# calculate_variance, calculate_std (standard deviation).\n",
    "def calculate_mean(data):\n",
    "    return sum(data) / len(data)\n",
    "\n",
    "calculate_mean([2,4,6,8,10])"
   ]
  },
  {
   "cell_type": "markdown",
   "metadata": {},
   "source": [
    "## Exercises: Level 3"
   ]
  },
  {
   "cell_type": "code",
   "execution_count": 35,
   "metadata": {},
   "outputs": [
    {
     "data": {
      "text/plain": [
       "True"
      ]
     },
     "execution_count": 35,
     "metadata": {},
     "output_type": "execute_result"
    }
   ],
   "source": [
    "## Write a function called is_prime, which checks if a number is prime.\n",
    "def is_prime(num):\n",
    "    if num < 2:\n",
    "        return False\n",
    "    for i in range(2, int(num**0.5) + 1):\n",
    "        if num % i == 0:\n",
    "            return False\n",
    "    return True\n",
    "\n",
    "is_prime(7)"
   ]
  },
  {
   "cell_type": "markdown",
   "metadata": {},
   "source": [
    "## question 2"
   ]
  },
  {
   "cell_type": "code",
   "execution_count": 37,
   "metadata": {},
   "outputs": [
    {
     "name": "stdout",
     "output_type": "stream",
     "text": [
      "Are all items unique in unique_list? True\n"
     ]
    }
   ],
   "source": [
    "## Write a functions which checks if all items are unique in the list.\n",
    "\n",
    "# Write a functions which checks if all items are unique in the list.\n",
    "def unique_items(list):\n",
    "    return len(list) == len(set(list))\n",
    "\n",
    "unique_list = [1, 2, 3, 4, 5]\n",
    "\n",
    "print(\"Are all items unique in unique_list?\", unique_items(list))\n"
   ]
  },
  {
   "cell_type": "markdown",
   "metadata": {},
   "source": [
    "## question 3"
   ]
  },
  {
   "cell_type": "code",
   "execution_count": null,
   "metadata": {},
   "outputs": [],
   "source": [
    "## Write a function which checks if all the items of the list are of the same data type.\n",
    "\n",
    "item_1 = type(list[0])\n",
    "    \n",
    "for item in list[1:]:\n",
    "        if type(item) != item_1:\n",
    "            return False"
   ]
  },
  {
   "cell_type": "markdown",
   "metadata": {},
   "source": [
    "## question 4"
   ]
  },
  {
   "cell_type": "code",
   "execution_count": 41,
   "metadata": {},
   "outputs": [
    {
     "data": {
      "text/plain": [
       "True"
      ]
     },
     "execution_count": 41,
     "metadata": {},
     "output_type": "execute_result"
    }
   ],
   "source": [
    "# Write a function which check if provided variable is a valid python variable\n",
    "def python_variable(variable_name):\n",
    "    if not variable_name.isidentifier():\n",
    "        return False\n",
    "    return True\n",
    "python_variable('is_valid')"
   ]
  },
  {
   "cell_type": "markdown",
   "metadata": {},
   "source": [
    "## question 5"
   ]
  },
  {
   "cell_type": "code",
   "execution_count": 46,
   "metadata": {},
   "outputs": [],
   "source": [
    "## Create a function called the most_spoken_languages in the world. \n",
    "#It should return 10 or 20 most spoken languages in the world in descending order\n",
    "def most_spoken_languages():\n",
    "    languages_spoken = 10\n",
    "    data = 0\n",
    "    \n",
    "    for country in data:\n",
    "        for language in country[\"languages\"]:\n",
    "            languages_count[language] = languages_count.get(language, 0) + 1\n",
    "    \n",
    "    return sorted_languages[:num_languages]\n",
    "\n"
   ]
  },
  {
   "cell_type": "markdown",
   "metadata": {},
   "source": [
    "tassk 2"
   ]
  },
  {
   "cell_type": "code",
   "execution_count": null,
   "metadata": {},
   "outputs": [],
   "source": [
    "# Question 5(b)\n",
    "\n",
    "def most_populated_countries(data, num_countries=10):\n",
    "    sorted_countries = sorted(data, x[\"population\"], reverse=True)\n",
    "    \n",
    "    return sorted_countries[:num_countries]\n",
    "most_populated_countries(data)"
   ]
  }
 ],
 "metadata": {
  "kernelspec": {
   "display_name": "Python 3",
   "language": "python",
   "name": "python3"
  },
  "language_info": {
   "codemirror_mode": {
    "name": "ipython",
    "version": 3
   },
   "file_extension": ".py",
   "mimetype": "text/x-python",
   "name": "python",
   "nbconvert_exporter": "python",
   "pygments_lexer": "ipython3",
   "version": "3.11.7"
  }
 },
 "nbformat": 4,
 "nbformat_minor": 2
}
