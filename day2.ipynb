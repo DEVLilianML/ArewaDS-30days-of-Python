{
 "cells": [
  {
   "cell_type": "markdown",
   "metadata": {},
   "source": [
    "# Exercise level 1"
   ]
  },
  {
   "cell_type": "code",
   "execution_count": null,
   "metadata": {},
   "outputs": [],
   "source": [
    " # Day 2: 30 Days of python programming'\n",
    "first_name = \"Lilian\"\n",
    "last_name = \"Onuoha\"\n",
    "first_name, last_name = \"Lilian\", \"Onuoha\"\n",
    "country = 'Nigeria'\n",
    "city = 'Lagos'\n",
    "age = 75\n",
    "year = 2023\n",
    "is_married = True\n",
    "is_true = yes\n",
    "is_light_on = True\n",
    "first_name, last_name, country, age, is_married = 'Lilian', 'Onuoha', 'Nigeria', 75, True"
   ]
  },
  {
   "cell_type": "markdown",
   "metadata": {},
   "source": [
    "## Exercise level 2"
   ]
  },
  {
   "cell_type": "code",
   "execution_count": 17,
   "metadata": {},
   "outputs": [
    {
     "name": "stdout",
     "output_type": "stream",
     "text": [
      "<class 'str'>\n",
      "<class 'str'>\n",
      "<class 'str'>\n",
      "<class 'str'>\n",
      "<class 'str'>\n",
      "<class 'int'>\n",
      "<class 'int'>\n",
      "<class 'bool'>\n",
      "<class 'bool'>\n",
      "<class 'bool'>\n",
      "6\n",
      "True\n"
     ]
    }
   ],
   "source": [
    "print(type(\"Lilian\"))\n",
    "print(type('Onuoha'))\n",
    "print(type('Lilian_onuoha'))\n",
    "print(type('Nigeria'))\n",
    "print(type(\"Lagos\"))\n",
    "print(type(75))\n",
    "print(type(2023)) \n",
    "print(type(True))\n",
    "print(type(True))\n",
    "print(type(True))\n",
    "\n",
    "print(len('Lilian'))\n",
    "print(len('Lilian') == len('Onuoha'))\n"
   ]
  },
  {
   "cell_type": "markdown",
   "metadata": {},
   "source": [
    "## question 4\n"
   ]
  },
  {
   "cell_type": "code",
   "execution_count": null,
   "metadata": {},
   "outputs": [],
   "source": [
    "num_one = 5\n",
    "num_two = 4\n",
    "total = num_one + num_two\n",
    "diff = num_one - num_two\n",
    "product = num_one * num_two\n",
    "division = num_one / num_two\n",
    "remainder = num_two % num_one\n",
    "exp = num_one**num_two\n",
    "floor_division = num_one // num_two"
   ]
  },
  {
   "cell_type": "markdown",
   "metadata": {},
   "source": [
    "## Question 5"
   ]
  },
  {
   "cell_type": "code",
   "execution_count": 18,
   "metadata": {},
   "outputs": [
    {
     "name": "stdout",
     "output_type": "stream",
     "text": [
      "The area of a circle is:  2827.7999999999997\n",
      "The circumference of a circle is:  188.51999999999998\n"
     ]
    }
   ],
   "source": [
    "if the radius = 30\n",
    "pi = 3.142\n",
    "area_of_circle = pi * radius**2\n",
    "circum_of_circle = 2 * pi * radius\n",
    "print('The area of a circle is: ',area_of_circle)\n",
    "print('The circumference of a circle is: ',circum_of_circle)"
   ]
  },
  {
   "cell_type": "markdown",
   "metadata": {},
   "source": [
    "## Question 6"
   ]
  },
  {
   "cell_type": "code",
   "execution_count": null,
   "metadata": {},
   "outputs": [],
   "source": [
    "first_name = input('Enter your first name: ')\n",
    "last_name = input('Enter your last name: ')\n",
    "country = input('Enter your country name: ')\n",
    "age = input('Enter your age: ')\n",
    "print(first_name,last_name, country, age)"
   ]
  },
  {
   "cell_type": "markdown",
   "metadata": {},
   "source": [
    "# Question 7"
   ]
  },
  {
   "cell_type": "code",
   "execution_count": 1,
   "metadata": {},
   "outputs": [
    {
     "name": "stdout",
     "output_type": "stream",
     "text": [
      "\n",
      "Here is a list of the Python keywords.  Enter any keyword to get more help.\n",
      "\n",
      "False               class               from                or\n",
      "None                continue            global              pass\n",
      "True                def                 if                  raise\n",
      "and                 del                 import              return\n",
      "as                  elif                in                  try\n",
      "assert              else                is                  while\n",
      "async               except              lambda              with\n",
      "await               finally             nonlocal            yield\n",
      "break               for                 not                 \n",
      "\n"
     ]
    }
   ],
   "source": [
    "help('keywords')"
   ]
  }
 ],
 "metadata": {
  "kernelspec": {
   "display_name": "Python 3",
   "language": "python",
   "name": "python3"
  },
  "language_info": {
   "codemirror_mode": {
    "name": "ipython",
    "version": 3
   },
   "file_extension": ".py",
   "mimetype": "text/x-python",
   "name": "python",
   "nbconvert_exporter": "python",
   "pygments_lexer": "ipython3",
   "version": "3.11.7"
  }
 },
 "nbformat": 4,
 "nbformat_minor": 2
}
