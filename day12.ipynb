{
 "cells": [
  {
   "cell_type": "markdown",
   "metadata": {},
   "source": [
    "## Exercises: Level 1"
   ]
  },
  {
   "cell_type": "markdown",
   "metadata": {},
   "source": [
    "## question 1"
   ]
  },
  {
   "cell_type": "code",
   "execution_count": 4,
   "metadata": {},
   "outputs": [
    {
     "name": "stdout",
     "output_type": "stream",
     "text": [
      "Random User ID: 563158\n"
     ]
    }
   ],
   "source": [
    "#Write a function which generates a six digit/character random_user_id.\n",
    "import random\n",
    "import string\n",
    "\n",
    "def generate_random_user_id():\n",
    "    # Define the characters to use for the user ID\n",
    "    characters = string.digits  # You can also include string.ascii_letters for letters\n",
    "\n",
    "    # Generate a six-character random user ID\n",
    "    random_user_id = ''.join(random.choice(characters) for _ in range(6))\n",
    "\n",
    "    return random_user_id\n",
    "\n",
    "# Example usage\n",
    "random_id = generate_random_user_id()\n",
    "print(\"Random User ID:\", random_id)\n"
   ]
  },
  {
   "cell_type": "markdown",
   "metadata": {},
   "source": [
    "## question 2"
   ]
  },
  {
   "cell_type": "code",
   "execution_count": null,
   "metadata": {},
   "outputs": [],
   "source": [
    "#Modify the previous task. Declare a function named user_id_gen_by_user. It doesn’t take any parameters but it takes two inputs using input(). \n",
    "#One of the inputs is the number of characters and the second input is the number of IDs which are supposed to be generated.\n",
    "import random\n",
    "import string\n",
    "\n",
    "def user_id_gen_by_user():\n",
    "    # first user input for the number of characters in the user ID\n",
    "    num_characters = int(input(\"Enter the number of characters for the user ID: \"))\n",
    "\n",
    "    # the second parameter\n",
    "    num_ids = int(input(\"Enter the number of IDs to be generated: \"))\n",
    "\n",
    "    # Define the characters to use for the user ID\n",
    "    characters = string.digits  # You can also include string.ascii_letters for letters\n",
    "\n",
    "    # Generate user IDs based on user input\n",
    "    for _ in range(num_ids):\n",
    "        random_user_id = ''.join(random.choice(characters) for _ in range(num_characters))\n",
    "        print(\"Random User ID:\", random_user_id)\n",
    "\n",
    "# Call the function\n",
    "user_id_gen_by_user()\n",
    "\n"
   ]
  },
  {
   "cell_type": "markdown",
   "metadata": {},
   "source": [
    "## question 3"
   ]
  },
  {
   "cell_type": "code",
   "execution_count": 8,
   "metadata": {},
   "outputs": [
    {
     "name": "stdout",
     "output_type": "stream",
     "text": [
      "Random RGB Color: ((0, 255), (0, 255), (0, 255))\n"
     ]
    }
   ],
   "source": [
    "## Write a function named rgb_color_gen. It will generate rgb colors (3 values ranging from 0 to 255 each).\n",
    "\n",
    "def rgb_color_gen():\n",
    "    # Generate random values for Red, Green, and Blue components\n",
    "    red = (0, 255)\n",
    "    green = (0, 255)\n",
    "    blue = (0, 255)\n",
    "\n",
    "    # Return the RGB color as a tuple\n",
    "    return red, green, blue\n",
    "\n",
    "# Example usage\n",
    "random_color = rgb_color_gen()\n",
    "print(\"Random RGB Color:\", random_color)\n",
    "\n"
   ]
  },
  {
   "cell_type": "markdown",
   "metadata": {},
   "source": [
    "## Exercises: Level 2"
   ]
  },
  {
   "cell_type": "code",
   "execution_count": 9,
   "metadata": {},
   "outputs": [
    {
     "name": "stdout",
     "output_type": "stream",
     "text": [
      "Random Hexadecimal Colors: ['#a2cd1a', '#2ac38b', '#5c3e41', '#7ca125', '#d481ae']\n"
     ]
    }
   ],
   "source": [
    "#Write a function list_of_hexa_colors which returns any number of hexadecimal colors in an array (six hexadecimal numbers written afte\n",
    "#. Hexadecimal numeral system is made out of 16 symbols, 0-9 and first 6 letters of the alphabet, a-f. #\n",
    "#Check the task 6 for output examples).\n",
    "import random\n",
    "\n",
    "def list_of_hexa_colors(num_colors):\n",
    "    # Define the hexadecimal characters (0-9, and a-f)\n",
    "    hex_characters = '0123456789abcdef'\n",
    "\n",
    "    # Generate the specified number of hexadecimal colors\n",
    "    colors = []\n",
    "    for _ in range(num_colors):\n",
    "        # Generate a random six-character hexadecimal color\n",
    "        color = '#' + ''.join(random.choice(hex_characters) for _ in range(6))\n",
    "        colors.append(color)\n",
    "\n",
    "    return colors\n",
    "\n",
    "# Example usage\n",
    "num_colors_to_generate = 5\n",
    "hex_colors = list_of_hexa_colors(num_colors_to_generate)\n",
    "print(\"Random Hexadecimal Colors:\", hex_colors)\n"
   ]
  },
  {
   "cell_type": "markdown",
   "metadata": {},
   "source": [
    "## question 2"
   ]
  },
  {
   "cell_type": "code",
   "execution_count": 13,
   "metadata": {},
   "outputs": [
    {
     "name": "stdout",
     "output_type": "stream",
     "text": [
      "Random RGB Colors: [(206, 114, 164), (39, 37, 63), (80, 105, 182), (186, 193, 187), (180, 39, 234)]\n"
     ]
    }
   ],
   "source": [
    "#Write a function list_of_rgb_colors which returns any number of RGB colors in an array.\n",
    "\n",
    "def list_of_rgb_colors(num_colors):\n",
    "    # Generate the specified number of RGB colors\n",
    "    colors = []\n",
    "    for _ in range(num_colors):\n",
    "        # Generate random values for Red, Green, and Blue components\n",
    "        red = random.randint(0, 255)\n",
    "        green = random.randint(0, 255)\n",
    "        blue = random.randint(0, 255)\n",
    "\n",
    "        # Append the RGB color as a tuple to the list\n",
    "        colors.append((red, green, blue))\n",
    "\n",
    "    return colors\n",
    "\n",
    "# Example usage\n",
    "num_colors_to_generate = 5\n",
    "rgb_colors = list_of_rgb_colors(num_colors_to_generate)\n",
    "print(\"Random RGB Colors:\", rgb_colors)\n"
   ]
  },
  {
   "cell_type": "markdown",
   "metadata": {},
   "source": [
    "## question 3"
   ]
  },
  {
   "cell_type": "code",
   "execution_count": 14,
   "metadata": {},
   "outputs": [
    {
     "name": "stdout",
     "output_type": "stream",
     "text": [
      "Random Hexadecimal Colors: ['#851fd2', '#469600', '#c8ac2c', '#e3e387', '#93e89d']\n",
      "Random RGB Colors: [(210, 94, 106), (165, 121, 185), (200, 201, 221), (254, 77, 54), (172, 219, 146)]\n"
     ]
    }
   ],
   "source": [
    "#Write a function generate_colors which can generate any number of hexa or rgb colors.\n",
    "import random\n",
    "\n",
    "def generate_colors(num_colors, mode='hex'):\n",
    "    # Define the hexadecimal characters (0-9, and a-f)\n",
    "    hex_characters = '0123456789abcdef'\n",
    "\n",
    "    # List to store generated colors\n",
    "    colors = []\n",
    "\n",
    "    # Function to generate a random six-character hexadecimal color\n",
    "    def generate_hex_color():\n",
    "        return '#' + ''.join(random.choice(hex_characters) for _ in range(6))\n",
    "\n",
    "    # Function to generate a random RGB color\n",
    "    def generate_rgb_color():\n",
    "        return (random.randint(0, 255), random.randint(0, 255), random.randint(0, 255))\n",
    "\n",
    "    # Select the color generation mode\n",
    "    generate_color_func = generate_hex_color if mode == 'hex' else generate_rgb_color\n",
    "\n",
    "    # Generate the specified number of colors\n",
    "    for _ in range(num_colors):\n",
    "        color = generate_color_func()\n",
    "        colors.append(color)\n",
    "\n",
    "    return colors\n",
    "\n",
    "# Example usage for generating hex colors\n",
    "num_colors_to_generate = 5\n",
    "hex_colors = generate_colors(num_colors_to_generate, mode='hex')\n",
    "print(\"Random Hexadecimal Colors:\", hex_colors)\n",
    "\n",
    "# Example usage for generating RGB colors\n",
    "rgb_colors = generate_colors(num_colors_to_generate, mode='rgb')\n",
    "print(\"Random RGB Colors:\", rgb_colors)\n"
   ]
  },
  {
   "cell_type": "markdown",
   "metadata": {},
   "source": [
    "## Exercises: Level 3"
   ]
  },
  {
   "cell_type": "code",
   "execution_count": 15,
   "metadata": {},
   "outputs": [
    {
     "name": "stdout",
     "output_type": "stream",
     "text": [
      "Original List: [1, 2, 3, 4, 5]\n",
      "Shuffled List: [4, 5, 1, 2, 3]\n"
     ]
    }
   ],
   "source": [
    "\n",
    "# Call your function shuffle_list, it takes a list as a parameter and it returns a shuffled list\n",
    "\n",
    "def shuffle_list(input_list):\n",
    "    shuffled_list = input_list.copy()  # Create a copy to avoid modifying the original list\n",
    "    random.shuffle(shuffled_list)\n",
    "    return shuffled_list\n",
    "\n",
    "original_list = [1, 2, 3, 4, 5]\n",
    "shuffled_result = shuffle_list(original_list)\n",
    "print(\"Original List:\", original_list)\n",
    "print(\"Shuffled List:\", shuffled_result)"
   ]
  },
  {
   "cell_type": "markdown",
   "metadata": {},
   "source": [
    "## question 2"
   ]
  },
  {
   "cell_type": "code",
   "execution_count": 16,
   "metadata": {},
   "outputs": [
    {
     "name": "stdout",
     "output_type": "stream",
     "text": [
      "Random Unique Numbers: [1, 3, 5, 6, 7, 8, 9]\n"
     ]
    }
   ],
   "source": [
    "#Write a function which returns an array of seven random numbers in a range of 0-9.\n",
    "# All the numbers must be unique\n",
    "import random\n",
    "\n",
    "def generate_unique_numbers():\n",
    "    # Ensure that the numbers are unique\n",
    "    unique_numbers = set()\n",
    "\n",
    "    while len(unique_numbers) < 7:\n",
    "        unique_numbers.add(random.randint(0, 9))\n",
    "\n",
    "    # Convert the set to a list and return\n",
    "    return list(unique_numbers)\n",
    "\n",
    "# Example usage\n",
    "random_numbers = generate_unique_numbers()\n",
    "print(\"Random Unique Numbers:\", random_numbers)\n"
   ]
  }
 ],
 "metadata": {
  "kernelspec": {
   "display_name": "Python 3",
   "language": "python",
   "name": "python3"
  },
  "language_info": {
   "codemirror_mode": {
    "name": "ipython",
    "version": 3
   },
   "file_extension": ".py",
   "mimetype": "text/x-python",
   "name": "python",
   "nbconvert_exporter": "python",
   "pygments_lexer": "ipython3",
   "version": "3.11.7"
  }
 },
 "nbformat": 4,
 "nbformat_minor": 2
}
