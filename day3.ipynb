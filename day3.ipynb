{
 "cells": [
  {
   "cell_type": "markdown",
   "metadata": {},
   "source": [
    "## Excercises\n"
   ]
  },
  {
   "cell_type": "code",
   "execution_count": 6,
   "metadata": {},
   "outputs": [],
   "source": [
    "# variable Declaration\n",
    "age = 75\n",
    "height = 5.3\n",
    "a = (3 + 6j)\n"
   ]
  },
  {
   "cell_type": "code",
   "execution_count": 2,
   "metadata": {},
   "outputs": [
    {
     "name": "stdout",
     "output_type": "stream",
     "text": [
      "area_tri 100\n"
     ]
    }
   ],
   "source": [
    "# Calculating area of a triangle \n",
    "base = input('Enter base: ')\n",
    "height = input('Enter height: ')\n",
    "base = 20\n",
    "height = 10\n",
    "area_tri = 0.5 * base * height\n",
    "print('area_tri', int(area_tri))"
   ]
  },
  {
   "cell_type": "code",
   "execution_count": 7,
   "metadata": {},
   "outputs": [
    {
     "name": "stdout",
     "output_type": "stream",
     "text": [
      "The perimeter of the triangle is  \n"
     ]
    }
   ],
   "source": [
    "# Calculating perimeter of a triangle\n",
    "a = input('Enter side a: ')\n",
    "b = input('Enter side b: ')\n",
    "c = input('Enter side c: ')\n",
    "perimeter_tri = a + b + c\n",
    "print('The perimeter of the triangle is ', perimeter_tri)"
   ]
  },
  {
   "cell_type": "code",
   "execution_count": null,
   "metadata": {},
   "outputs": [],
   "source": [
    "# Calculating area and perimeter of a rectangle\n",
    "lenght = input('Enter the lenght: ')\n",
    "width = input('Enter width: ')\n",
    "area_rec = lenght * width\n",
    "print('The_area_of_rectangle is ', area_rec)\n",
    "\n",
    "perimeter_rec = 2 * (lenght + width)\n",
    "print('The perimeter of the rectangle is ', perimeter_rec)"
   ]
  },
  {
   "cell_type": "code",
   "execution_count": null,
   "metadata": {},
   "outputs": [],
   "source": [
    " # Calculate area and circumference\n",
    "pi = 3.14;\n",
    "area = pi * radius * radius;\n",
    "circumference = 2 * pi * radius;\n",
    "\n",
    "# Display the results\n",
    "  alert(\"The area of the circle is: \" + area.toFixed(2));\n",
    "  alert(\"The circumference of the circle is: \" + circumference.toFixed(2));\n",
    "}"
   ]
  },
  {
   "cell_type": "code",
   "execution_count": 3,
   "metadata": {},
   "outputs": [
    {
     "name": "stdout",
     "output_type": "stream",
     "text": [
      "Slope: 2\n",
      "X-Intercept: 1.0\n",
      "Y-Intercept: -2\n"
     ]
    }
   ],
   "source": [
    "# Given equation: y = 2x - 2\n",
    "# Calculate slope\n",
    "first_slope = 2\n",
    "# Calculating x-intercept (when y = 0)\n",
    "x_intercept = 2 / first_slope\n",
    "# Calculating y-intercept (when x = 0)\n",
    "y_intercept = -2\n",
    "print(\"Slope:\", first_slope)\n",
    "print(\"X-Intercept:\", x_intercept)\n",
    "print(\"Y-Intercept:\", y_intercept)"
   ]
  },
  {
   "cell_type": "code",
   "execution_count": 4,
   "metadata": {},
   "outputs": [
    {
     "name": "stdout",
     "output_type": "stream",
     "text": [
      "Slope (m): 2.0\n",
      "Euclidean Distance: 8.94427190999916\n"
     ]
    }
   ],
   "source": [
    "# Given the Points\n",
    "x1, y1 = 2, 2\n",
    "x2, y2 = 6, 10\n",
    "# Calculating the slope\n",
    "second_slope = (y2 - y1) / (x2 - x1)\n",
    "# Calculating the Euclidean distance\n",
    "distance = ((x2 - x1)**2 + (y2 - y1)**2)**0.5\n",
    "print(\"Slope (m):\", second_slope)\n",
    "print(\"Euclidean Distance:\", distance)"
   ]
  },
  {
   "cell_type": "code",
   "execution_count": 5,
   "metadata": {},
   "outputs": [
    {
     "name": "stdout",
     "output_type": "stream",
     "text": [
      "first_slope == second_slope:  True\n"
     ]
    }
   ],
   "source": [
    "# comparison of the scope of 8 and 9\n",
    "print('first_slope == second_slope: ',first_slope == second_slope)\n"
   ]
  },
  {
   "cell_type": "code",
   "execution_count": null,
   "metadata": {},
   "outputs": [],
   "source": [
    "# Calculating the value of y (y = x^2 + 6x + 9) in this equation\n",
    "x = input('Enter value of x: ')\n",
    "y = (x**2) + (6*x) + 9\n",
    "print('Value of y is ', y)"
   ]
  },
  {
   "cell_type": "code",
   "execution_count": 8,
   "metadata": {},
   "outputs": [
    {
     "name": "stdout",
     "output_type": "stream",
     "text": [
      "False\n"
     ]
    }
   ],
   "source": [
    "# To find the 'python' and 'dragon'length and make a falsy comparison statement.\n",
    "print(len('python') != len('dragon'))"
   ]
  },
  {
   "cell_type": "code",
   "execution_count": 9,
   "metadata": {},
   "outputs": [
    {
     "name": "stdout",
     "output_type": "stream",
     "text": [
      "True\n"
     ]
    }
   ],
   "source": [
    "# To check \"on\" both 'python' and 'dragon' using and operator\n",
    "print('on' in 'dragon' and 'on' in 'python')"
   ]
  },
  {
   "cell_type": "code",
   "execution_count": 10,
   "metadata": {},
   "outputs": [
    {
     "name": "stdout",
     "output_type": "stream",
     "text": [
      "True\n"
     ]
    }
   ],
   "source": [
    "# To check if jargon is in the statement\n",
    "print('jargon' in \"I hope this course is not full of jargon\")"
   ]
  },
  {
   "cell_type": "code",
   "execution_count": 11,
   "metadata": {},
   "outputs": [
    {
     "name": "stdout",
     "output_type": "stream",
     "text": [
      "False\n"
     ]
    }
   ],
   "source": [
    "# checking \"on\" not in  both 'dragon' and 'python'\n",
    "print('on' not in 'dragon' and 'python')"
   ]
  },
  {
   "cell_type": "code",
   "execution_count": 17,
   "metadata": {},
   "outputs": [
    {
     "name": "stdout",
     "output_type": "stream",
     "text": [
      "lenght of 'python' as float = 6.0\n",
      "lenght of 'python' as string = 6\n"
     ]
    }
   ],
   "source": [
    "# To find the length of a python\n",
    "chart = len('python')\n",
    "chart_float = float(chart)\n",
    "text_string = str(chart)\n",
    "print(\"lenght of 'python' as float =\",chart_float)\n",
    "print(\"lenght of 'python' as string =\",chart_string)"
   ]
  },
  {
   "cell_type": "code",
   "execution_count": 22,
   "metadata": {},
   "outputs": [
    {
     "name": "stdout",
     "output_type": "stream",
     "text": [
      "True\n"
     ]
    }
   ],
   "source": [
    "# To check even numbers without a remainder\n",
    "print('2' not in 'even numbers')\n"
   ]
  },
  {
   "cell_type": "code",
   "execution_count": 23,
   "metadata": {},
   "outputs": [
    {
     "name": "stdout",
     "output_type": "stream",
     "text": [
      "True\n"
     ]
    }
   ],
   "source": [
    "# To check 7 by 3 is equal to the int converted value of 2.7\n",
    "floor_div = 7 // 3\n",
    "print(floor_div == int(2.7))"
   ]
  },
  {
   "cell_type": "code",
   "execution_count": 31,
   "metadata": {},
   "outputs": [
    {
     "name": "stdout",
     "output_type": "stream",
     "text": [
      "False\n"
     ]
    }
   ],
   "source": [
    "# to check 10 equal to 10\n",
    "print(type('10') == type(10))"
   ]
  },
  {
   "cell_type": "code",
   "execution_count": null,
   "metadata": {},
   "outputs": [],
   "source": [
    "# checking int if 9'8 is equal to 10\n",
    "print(type(int('9.8') == type(10)))"
   ]
  },
  {
   "cell_type": "code",
   "execution_count": 38,
   "metadata": {},
   "outputs": [],
   "source": [
    "# To write a script that prompts the user to enter hours and rate\n",
    "hours = input(\"Enter hours: \")\n",
    "rate = (input(\"Enter rate per hour: \"))\n",
    "weekly_earning = hours * rate\n",
    "print('weekly_earning')"
   ]
  },
  {
   "cell_type": "code",
   "execution_count": 2,
   "metadata": {},
   "outputs": [],
   "source": [
    "# script that prompts the user to enter number of years\n",
    "number_of_yrs = input(\"Enter number of years you have lived: \")\n",
    "seconds_in_minute = 60\n",
    "minutes_in_hour = 60\n",
    "hours_in_day = 24\n",
    "days_in_a_year = 365\n",
    "print('you have live for ', number_of_seconds, 'seconds')"
   ]
  },
  {
   "cell_type": "code",
   "execution_count": 1,
   "metadata": {},
   "outputs": [
    {
     "name": "stdout",
     "output_type": "stream",
     "text": [
      "1 1 1 1 1\n",
      "2 1 2 4 8\n",
      "3 1 3 9 27\n",
      "4 1 4 16 64\n",
      "5 1 5 25 125\n"
     ]
    }
   ],
   "source": [
    "# to write python table\n",
    "print('1 1 1 1 1')\n",
    "print('2 1 2 4 8')\n",
    "print('3 1 3 9 27')\n",
    "print('4 1 4 16 64')\n",
    "print('5 1 5 25 125')"
   ]
  }
 ],
 "metadata": {
  "kernelspec": {
   "display_name": "Python 3",
   "language": "python",
   "name": "python3"
  },
  "language_info": {
   "codemirror_mode": {
    "name": "ipython",
    "version": 3
   },
   "file_extension": ".py",
   "mimetype": "text/x-python",
   "name": "python",
   "nbconvert_exporter": "python",
   "pygments_lexer": "ipython3",
   "version": "3.11.7"
  }
 },
 "nbformat": 4,
 "nbformat_minor": 2
}
